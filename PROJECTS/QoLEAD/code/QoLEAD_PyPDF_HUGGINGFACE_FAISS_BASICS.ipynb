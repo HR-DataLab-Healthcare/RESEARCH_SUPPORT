{
 "cells": [
  {
   "cell_type": "code",
   "execution_count": 1,
   "id": "a4f5388a-a1b8-4c1f-aa1e-966250e48849",
   "metadata": {},
   "outputs": [],
   "source": [
    "## !pip install -U ipykernel jupyter ipywidgets numpy langchain_community pip install\n",
    "## !pip install -U sentence_transformers numpy pandas unstructured openpyxl shutup PyPDF2\n",
    "\n",
    "### Importing general Libraries\n",
    "import os\n",
    "import warnings\n",
    "warnings.filterwarnings(\"ignore\", category=FutureWarning)\n",
    "import shutup; shutup.please()\n",
    "\n",
    "import pandas as pd\n",
    "import numpy as np\n",
    "import PyPDF2\n",
    "\n"
   ]
  },
  {
   "cell_type": "code",
   "execution_count": 2,
   "id": "fc88d334",
   "metadata": {},
   "outputs": [],
   "source": [
    "# store the pdfS FILES in a specific map\n",
    "\n",
    "map= \"LAWTON\"\n",
    "os.makedirs(map, exist_ok=True)"
   ]
  },
  {
   "cell_type": "code",
   "execution_count": 3,
   "id": "221cca7e",
   "metadata": {},
   "outputs": [
    {
     "data": {
      "text/plain": [
       "Document(metadata={'source': 'LAWTON\\\\QoL reference Lawton.pdf', 'page': 0}, page_content='Original Research Article\\nDement Geriatr Cogn Disord 2004;18:159–164\\nDOI: 10.1159/000079196\\nA Model for Quality of Life Measures in\\nPatients with Dementia:\\nLawton’s Next Step\\nC. Jonkera,b D.L. Gerritsenb P.R. Bosboomc J.T. Van der Steenb\\naDepartment of Psychiatry and bInstitute for Research in Extramural Medicine, VU University Medical Center, and\\ncDepartment of Clinical Neuropsychology, VU University, Amsterdam, The Netherlands\\nAccepted: January 22, 2004\\nPublished online: June 21, 2004\\nProf. Dr. C. Jonker, Behavioral Neurologist\\nDepartment of Psychiatry and EMGO Institute\\nVU University Medical Center, Van der Boechorststraat 7\\nNL–1081 BT Amsterdam (The Netherlands)\\nTel. +31 20 4446770, Fax +31 20 4446775, E-Mail c.jonker.emgo@med.vu.nl\\nABC\\nFax +41 61 306 12 34\\nE-Mail karger@karger.ch\\nwww.karger.com\\n© 2004 S. Karger AG, Basel\\n1420–8008/04/0182–0159$21.00/0\\nAccessible online at:')"
      ]
     },
     "execution_count": 3,
     "metadata": {},
     "output_type": "execute_result"
    }
   ],
   "source": [
    "from langchain_community.document_loaders import PyPDFLoader\n",
    "from langchain_community.document_loaders import PyPDFDirectoryLoader\n",
    "from langchain.text_splitter import RecursiveCharacterTextSplitter\n",
    "\n",
    "# Load pdf files in the local directory\n",
    "loader = PyPDFDirectoryLoader(\"./LAWTON\")\n",
    "\n",
    "docs_before_split = loader.load()\n",
    "text_splitter = RecursiveCharacterTextSplitter(\n",
    "    chunk_size = 900,\n",
    "    chunk_overlap  = 50,\n",
    ")\n",
    "docs_after_split = text_splitter.split_documents(docs_before_split)\n",
    "\n",
    "docs_after_split[0]"
   ]
  },
  {
   "cell_type": "markdown",
   "id": "5d17ab7d-6517-4caf-a1c2-44dd092f3252",
   "metadata": {
    "vscode": {
     "languageId": "html"
    }
   },
   "source": [
    "### Split documents to smaller chunks\n",
    "\n",
    "Large enough to contain enough information to answer aquestion.\n",
    "\n",
    "Small enough to fit into the LLM prompt: Mistral-7B-v0.1 input tokens limit  4960 tokens.\n",
    "\n",
    "Small enough to fit into the embeddings model: BAAI/bge-small-en-vI.\n",
    "Input tokens embedder must be limited to 512 tokens.\n",
    "Roughly 2000 characters. Note: 1 to approximately 4 characters.\n",
    "\n",
    "Here we split documents to chunks smaller than 700 characters with an overlap of 50 characters."
   ]
  },
  {
   "cell_type": "code",
   "execution_count": 4,
   "id": "d537f227-4249-4370-9caa-c9f0076c9621",
   "metadata": {},
   "outputs": [
    {
     "name": "stdout",
     "output_type": "stream",
     "text": [
      "Before split, there was/were 6 document(s) loaded, with average characters equal to 4561.\n",
      "After split, there were 36 documents (chunks), with average characters equal to 767 (average chunk length).\n"
     ]
    }
   ],
   "source": [
    "avg_doc_length = lambda docs: sum([len(doc.page_content) for doc in docs])//len(docs)\n",
    "avg_char_before_split = avg_doc_length(docs_before_split)\n",
    "avg_char_after_split = avg_doc_length(docs_after_split)\n",
    "\n",
    "print(f'Before split, there was/were {len(docs_before_split)} document(s) loaded, with average characters equal to {avg_char_before_split}.')\n",
    "print(f'After split, there were {len(docs_after_split)} documents (chunks), with average characters equal to {avg_char_after_split} (average chunk length).')"
   ]
  },
  {
   "cell_type": "code",
   "execution_count": 5,
   "id": "da8e4daa-2263-43d1-a12b-5590d895ff12",
   "metadata": {},
   "outputs": [
    {
     "data": {
      "text/plain": [
       "Document(metadata={'source': 'LAWTON\\\\QoL reference Lawton.pdf', 'page': 0}, page_content='Original Research Article\\nDement Geriatr Cogn Disord 2004;18:159–164\\nDOI: 10.1159/000079196\\nA Model for Quality of Life Measures in\\nPatients with Dementia:\\nLawton’s Next Step\\nC. Jonkera,b D.L. Gerritsenb P.R. Bosboomc J.T. Van der Steenb\\naDepartment of Psychiatry and bInstitute for Research in Extramural Medicine, VU University Medical Center, and\\ncDepartment of Clinical Neuropsychology, VU University, Amsterdam, The Netherlands\\nAccepted: January 22, 2004\\nPublished online: June 21, 2004\\nProf. Dr. C. Jonker, Behavioral Neurologist\\nDepartment of Psychiatry and EMGO Institute\\nVU University Medical Center, Van der Boechorststraat 7\\nNL–1081 BT Amsterdam (The Netherlands)\\nTel. +31 20 4446770, Fax +31 20 4446775, E-Mail c.jonker.emgo@med.vu.nl\\nABC\\nFax +41 61 306 12 34\\nE-Mail karger@karger.ch\\nwww.karger.com\\n© 2004 S. Karger AG, Basel\\n1420–8008/04/0182–0159$21.00/0\\nAccessible online at:')"
      ]
     },
     "metadata": {},
     "output_type": "display_data"
    }
   ],
   "source": [
    "display(docs_after_split[0])"
   ]
  },
  {
   "cell_type": "markdown",
   "id": "976f477d",
   "metadata": {},
   "source": [
    "### Text Embeddings with Hugging Face models\n",
    "At the time of writing (nov 2024), there are 213 text embeddings models for English on the Massive Text Embedding Benchmark (MTEB) leaderboard\n",
    "\n",
    "https://huggingface.co/spaces/mteb/leaderboard\n",
    "\n",
    " For our project, we are using LangChain’s HuggingFaceBgeEmbeddings (BGE models on the Hugging Face.\n",
    "\n",
    "Aaccording to LangChain are “the best open-source embedding models”.\n",
    "\n",
    " Currently, **BAAI/bge-small-en-v1.5** model is the 26th on MTEB leaderboard with max tokens: 512 tokens, embedding dimensions: 384 and model size: 0.13GB\n",
    "\n",
    "To use, you should have the sentence_transformers python package installed. To use Nomic, make sure the version of sentence_transformers >= 2.3.0.\n",
    "\n",
    "https://api.python.langchain.com/en/latest/embeddings/langchain_community.embeddings.huggingface.HuggingFaceBgeEmbeddings.html#langchain-community-embeddings-huggingface-huggingfacebgeembeddings."
   ]
  },
  {
   "cell_type": "code",
   "execution_count": 7,
   "id": "795c523d",
   "metadata": {},
   "outputs": [
    {
     "data": {
      "text/plain": [
       "True"
      ]
     },
     "metadata": {},
     "output_type": "display_data"
    },
    {
     "data": {
      "text/plain": [
       "True"
      ]
     },
     "metadata": {},
     "output_type": "display_data"
    }
   ],
   "source": [
    "import torch\n",
    "from torch import cuda, bfloat16\n",
    "from transformers import AutoTokenizer, AutoModel\n",
    "\n",
    "device = f'cuda:{cuda.current_device()}' if cuda.is_available() else 'cpu'\n",
    "display(torch.cuda.is_available())\n",
    "\n",
    "### ===> takes about 60 seconds to complete the process\n",
    "\n",
    "from langchain_community.embeddings import HuggingFaceBgeEmbeddings\n",
    "### EMBEDDING models\n",
    "# https://python.langchain.com/docs/integrations/text_embedding/\n",
    "\n",
    "model_name = \"BAAI/bge-large-en-v1.5\"\n",
    "#model_name = \"BAAI/bge-small-en-v1.5\"\n",
    "#model_name =\"jinaai/jina-embeddings-v3\"\n",
    "\n",
    "\n",
    "model_kwargs = {'device': 'cuda', # use cuda\" when GPU is available\n",
    "                'trust_remote_code':True\n",
    "                } \n",
    "\n",
    "encode_kwargs = {'normalize_embeddings': True,\n",
    "                 'truncate':True # truncate the input to the maximum length the model can handle\n",
    "                 }  \n",
    "\n",
    "### Create the embeddings object\n",
    "huggingface_embeddings = HuggingFaceBgeEmbeddings(\n",
    "                                                    model_name=model_name,\n",
    "                                                    model_kwargs=model_kwargs,\n",
    "                                                    encode_kwargs=encode_kwargs,\n",
    ")\n",
    "\n",
    "\n",
    "display(torch.cuda.is_available())"
   ]
  },
  {
   "cell_type": "markdown",
   "id": "7572d707",
   "metadata": {},
   "source": [
    "### Retrieval System for vector embeddings"
   ]
  },
  {
   "cell_type": "code",
   "execution_count": 8,
   "id": "18e9bf4f",
   "metadata": {},
   "outputs": [
    {
     "name": "stdout",
     "output_type": "stream",
     "text": [
      "Sample embedding of a document chunk:  [ 0.04514517 -0.01253906 -0.01787082 ... -0.02373618 -0.020726\n",
      "  0.01130795]\n",
      "Size of the embedding:  (1024,)\n"
     ]
    }
   ],
   "source": [
    "import numpy as np\n",
    "\n",
    "## provide a sample of how the embedding\n",
    "\n",
    "sample_embedding = np.array(huggingface_embeddings.embed_query(docs_after_split[0].page_content))\n",
    "print(\"Sample embedding of a document chunk: \", sample_embedding)\n",
    "print(\"Size of the embedding: \", sample_embedding.shape)"
   ]
  },
  {
   "cell_type": "code",
   "execution_count": 9,
   "id": "750386e5",
   "metadata": {},
   "outputs": [],
   "source": [
    "## Create the vector store from the splitted  data and use the selected embedding model\n",
    "\n",
    "from langchain_community.vectorstores import FAISS\n",
    "vectorstore = FAISS.from_documents(docs_after_split, huggingface_embeddings)"
   ]
  },
  {
   "cell_type": "code",
   "execution_count": 10,
   "id": "e829ba2a-7ac4-48c0-acfb-d1263c4a3398",
   "metadata": {},
   "outputs": [
    {
     "data": {
      "text/plain": [
       "HFCacheInfo(size_on_disk=30864267500, repos=frozenset({CachedRepoInfo(repo_id='HuggingFaceH4/zephyr-7b-beta', repo_type='model', repo_path=WindowsPath('H:/LLM_CACHE/huggingface/hub/models--HuggingFaceH4--zephyr-7b-beta'), size_on_disk=14485813038, nb_files=16, revisions=frozenset({CachedRevisionInfo(commit_hash='892b3d7a7b1cf10c7a701c60881cd93df615734c', snapshot_path=WindowsPath('H:/LLM_CACHE/huggingface/hub/models--HuggingFaceH4--zephyr-7b-beta/snapshots/892b3d7a7b1cf10c7a701c60881cd93df615734c'), size_on_disk=14485813038, files=frozenset({CachedFileInfo(file_name='tokenizer.json', file_path=WindowsPath('H:/LLM_CACHE/huggingface/hub/models--HuggingFaceH4--zephyr-7b-beta/snapshots/892b3d7a7b1cf10c7a701c60881cd93df615734c/tokenizer.json'), blob_path=WindowsPath('H:/LLM_CACHE/huggingface/hub/models--HuggingFaceH4--zephyr-7b-beta/snapshots/892b3d7a7b1cf10c7a701c60881cd93df615734c/tokenizer.json'), size_on_disk=1795303, blob_last_accessed=1731864985.5923119, blob_last_modified=1731856643.2194958), CachedFileInfo(file_name='model-00002-of-00008.safetensors', file_path=WindowsPath('H:/LLM_CACHE/huggingface/hub/models--HuggingFaceH4--zephyr-7b-beta/snapshots/892b3d7a7b1cf10c7a701c60881cd93df615734c/model-00002-of-00008.safetensors'), blob_path=WindowsPath('H:/LLM_CACHE/huggingface/hub/models--HuggingFaceH4--zephyr-7b-beta/snapshots/892b3d7a7b1cf10c7a701c60881cd93df615734c/model-00002-of-00008.safetensors'), size_on_disk=1946243936, blob_last_accessed=1731864956.4307384, blob_last_modified=1731856780.4330845), CachedFileInfo(file_name='special_tokens_map.json', file_path=WindowsPath('H:/LLM_CACHE/huggingface/hub/models--HuggingFaceH4--zephyr-7b-beta/snapshots/892b3d7a7b1cf10c7a701c60881cd93df615734c/special_tokens_map.json'), blob_path=WindowsPath('H:/LLM_CACHE/huggingface/hub/models--HuggingFaceH4--zephyr-7b-beta/snapshots/892b3d7a7b1cf10c7a701c60881cd93df615734c/special_tokens_map.json'), size_on_disk=168, blob_last_accessed=1731856643.717805, blob_last_modified=1731856643.717805), CachedFileInfo(file_name='added_tokens.json', file_path=WindowsPath('H:/LLM_CACHE/huggingface/hub/models--HuggingFaceH4--zephyr-7b-beta/snapshots/892b3d7a7b1cf10c7a701c60881cd93df615734c/added_tokens.json'), blob_path=WindowsPath('H:/LLM_CACHE/huggingface/hub/models--HuggingFaceH4--zephyr-7b-beta/snapshots/892b3d7a7b1cf10c7a701c60881cd93df615734c/added_tokens.json'), size_on_disk=42, blob_last_accessed=1731856643.470338, blob_last_modified=1731856643.470338), CachedFileInfo(file_name='tokenizer_config.json', file_path=WindowsPath('H:/LLM_CACHE/huggingface/hub/models--HuggingFaceH4--zephyr-7b-beta/snapshots/892b3d7a7b1cf10c7a701c60881cd93df615734c/tokenizer_config.json'), blob_path=WindowsPath('H:/LLM_CACHE/huggingface/hub/models--HuggingFaceH4--zephyr-7b-beta/snapshots/892b3d7a7b1cf10c7a701c60881cd93df615734c/tokenizer_config.json'), size_on_disk=1431, blob_last_accessed=1731864985.5873175, blob_last_modified=1731856642.010469), CachedFileInfo(file_name='model-00003-of-00008.safetensors', file_path=WindowsPath('H:/LLM_CACHE/huggingface/hub/models--HuggingFaceH4--zephyr-7b-beta/snapshots/892b3d7a7b1cf10c7a701c60881cd93df615734c/model-00003-of-00008.safetensors'), blob_path=WindowsPath('H:/LLM_CACHE/huggingface/hub/models--HuggingFaceH4--zephyr-7b-beta/snapshots/892b3d7a7b1cf10c7a701c60881cd93df615734c/model-00003-of-00008.safetensors'), size_on_disk=1979781432, blob_last_accessed=1731864958.2119186, blob_last_modified=1731860417.6082575), CachedFileInfo(file_name='model.safetensors.index.json', file_path=WindowsPath('H:/LLM_CACHE/huggingface/hub/models--HuggingFaceH4--zephyr-7b-beta/snapshots/892b3d7a7b1cf10c7a701c60881cd93df615734c/model.safetensors.index.json'), blob_path=WindowsPath('H:/LLM_CACHE/huggingface/hub/models--HuggingFaceH4--zephyr-7b-beta/snapshots/892b3d7a7b1cf10c7a701c60881cd93df615734c/model.safetensors.index.json'), size_on_disk=23950, blob_last_accessed=1731864954.2932937, blob_last_modified=1731856644.445462), CachedFileInfo(file_name='model-00007-of-00008.safetensors', file_path=WindowsPath('H:/LLM_CACHE/huggingface/hub/models--HuggingFaceH4--zephyr-7b-beta/snapshots/892b3d7a7b1cf10c7a701c60881cd93df615734c/model-00007-of-00008.safetensors'), blob_path=WindowsPath('H:/LLM_CACHE/huggingface/hub/models--HuggingFaceH4--zephyr-7b-beta/snapshots/892b3d7a7b1cf10c7a701c60881cd93df615734c/model-00007-of-00008.safetensors'), size_on_disk=1979781448, blob_last_accessed=1731864977.845752, blob_last_modified=1731860771.2300844), CachedFileInfo(file_name='model-00001-of-00008.safetensors', file_path=WindowsPath('H:/LLM_CACHE/huggingface/hub/models--HuggingFaceH4--zephyr-7b-beta/snapshots/892b3d7a7b1cf10c7a701c60881cd93df615734c/model-00001-of-00008.safetensors'), blob_path=WindowsPath('H:/LLM_CACHE/huggingface/hub/models--HuggingFaceH4--zephyr-7b-beta/snapshots/892b3d7a7b1cf10c7a701c60881cd93df615734c/model-00001-of-00008.safetensors'), size_on_disk=1889587040, blob_last_accessed=1731864954.5282326, blob_last_modified=1731856709.9707794), CachedFileInfo(file_name='generation_config.json', file_path=WindowsPath('H:/LLM_CACHE/huggingface/hub/models--HuggingFaceH4--zephyr-7b-beta/snapshots/892b3d7a7b1cf10c7a701c60881cd93df615734c/generation_config.json'), blob_path=WindowsPath('H:/LLM_CACHE/huggingface/hub/models--HuggingFaceH4--zephyr-7b-beta/snapshots/892b3d7a7b1cf10c7a701c60881cd93df615734c/generation_config.json'), size_on_disk=111, blob_last_accessed=1731864985.5613835, blob_last_modified=1731860816.360865), CachedFileInfo(file_name='model-00005-of-00008.safetensors', file_path=WindowsPath('H:/LLM_CACHE/huggingface/hub/models--HuggingFaceH4--zephyr-7b-beta/snapshots/892b3d7a7b1cf10c7a701c60881cd93df615734c/model-00005-of-00008.safetensors'), blob_path=WindowsPath('H:/LLM_CACHE/huggingface/hub/models--HuggingFaceH4--zephyr-7b-beta/snapshots/892b3d7a7b1cf10c7a701c60881cd93df615734c/model-00005-of-00008.safetensors'), size_on_disk=1979781448, blob_last_accessed=1731864965.2456257, blob_last_modified=1731860560.6562614), CachedFileInfo(file_name='config.json', file_path=WindowsPath('H:/LLM_CACHE/huggingface/hub/models--HuggingFaceH4--zephyr-7b-beta/snapshots/892b3d7a7b1cf10c7a701c60881cd93df615734c/config.json'), blob_path=WindowsPath('H:/LLM_CACHE/huggingface/hub/models--HuggingFaceH4--zephyr-7b-beta/snapshots/892b3d7a7b1cf10c7a701c60881cd93df615734c/config.json'), size_on_disk=638, blob_last_accessed=1731864954.0778515, blob_last_modified=1731856644.0800085), CachedFileInfo(file_name='model-00006-of-00008.safetensors', file_path=WindowsPath('H:/LLM_CACHE/huggingface/hub/models--HuggingFaceH4--zephyr-7b-beta/snapshots/892b3d7a7b1cf10c7a701c60881cd93df615734c/model-00006-of-00008.safetensors'), blob_path=WindowsPath('H:/LLM_CACHE/huggingface/hub/models--HuggingFaceH4--zephyr-7b-beta/snapshots/892b3d7a7b1cf10c7a701c60881cd93df615734c/model-00006-of-00008.safetensors'), size_on_disk=1946243984, blob_last_accessed=1731864971.506074, blob_last_modified=1731860701.331454), CachedFileInfo(file_name='model-00008-of-00008.safetensors', file_path=WindowsPath('H:/LLM_CACHE/huggingface/hub/models--HuggingFaceH4--zephyr-7b-beta/snapshots/892b3d7a7b1cf10c7a701c60881cd93df615734c/model-00008-of-00008.safetensors'), blob_path=WindowsPath('H:/LLM_CACHE/huggingface/hub/models--HuggingFaceH4--zephyr-7b-beta/snapshots/892b3d7a7b1cf10c7a701c60881cd93df615734c/model-00008-of-00008.safetensors'), size_on_disk=815834680, blob_last_accessed=1731864984.3321936, blob_last_modified=1731860800.056521), CachedFileInfo(file_name='tokenizer.model', file_path=WindowsPath('H:/LLM_CACHE/huggingface/hub/models--HuggingFaceH4--zephyr-7b-beta/snapshots/892b3d7a7b1cf10c7a701c60881cd93df615734c/tokenizer.model'), blob_path=WindowsPath('H:/LLM_CACHE/huggingface/hub/models--HuggingFaceH4--zephyr-7b-beta/snapshots/892b3d7a7b1cf10c7a701c60881cd93df615734c/tokenizer.model'), size_on_disk=493443, blob_last_accessed=1731856642.6224244, blob_last_modified=1731856642.6224244), CachedFileInfo(file_name='model-00004-of-00008.safetensors', file_path=WindowsPath('H:/LLM_CACHE/huggingface/hub/models--HuggingFaceH4--zephyr-7b-beta/snapshots/892b3d7a7b1cf10c7a701c60881cd93df615734c/model-00004-of-00008.safetensors'), blob_path=WindowsPath('H:/LLM_CACHE/huggingface/hub/models--HuggingFaceH4--zephyr-7b-beta/snapshots/892b3d7a7b1cf10c7a701c60881cd93df615734c/model-00004-of-00008.safetensors'), size_on_disk=1946243984, blob_last_accessed=1731864960.063832, blob_last_modified=1731860489.7083192)}), refs=frozenset({'main'}), last_modified=1731860816.360865)}), last_accessed=1731864985.5923119, last_modified=1731860816.360865), CachedRepoInfo(repo_id='BAAI/bge-large-en-v1.5', repo_type='model', repo_path=WindowsPath('H:/LLM_CACHE/huggingface/hub/models--BAAI--bge-large-en-v1.5'), size_on_disk=1341656113, nb_files=11, revisions=frozenset({CachedRevisionInfo(commit_hash='d4aa6901d3a41ba39fb536a557fa166f842b0e09', snapshot_path=WindowsPath('H:/LLM_CACHE/huggingface/hub/models--BAAI--bge-large-en-v1.5/snapshots/d4aa6901d3a41ba39fb536a557fa166f842b0e09'), size_on_disk=1341656113, files=frozenset({CachedFileInfo(file_name='config.json', file_path=WindowsPath('H:/LLM_CACHE/huggingface/hub/models--BAAI--bge-large-en-v1.5/snapshots/d4aa6901d3a41ba39fb536a557fa166f842b0e09/config.json'), blob_path=WindowsPath('H:/LLM_CACHE/huggingface/hub/models--BAAI--bge-large-en-v1.5/snapshots/d4aa6901d3a41ba39fb536a557fa166f842b0e09/config.json'), size_on_disk=779, blob_last_accessed=1731928339.292385, blob_last_modified=1731856547.3318517), CachedFileInfo(file_name='config_sentence_transformers.json', file_path=WindowsPath('H:/LLM_CACHE/huggingface/hub/models--BAAI--bge-large-en-v1.5/snapshots/d4aa6901d3a41ba39fb536a557fa166f842b0e09/config_sentence_transformers.json'), blob_path=WindowsPath('H:/LLM_CACHE/huggingface/hub/models--BAAI--bge-large-en-v1.5/snapshots/d4aa6901d3a41ba39fb536a557fa166f842b0e09/config_sentence_transformers.json'), size_on_disk=124, blob_last_accessed=1731928338.7678828, blob_last_modified=1731856546.353825), CachedFileInfo(file_name='tokenizer_config.json', file_path=WindowsPath('H:/LLM_CACHE/huggingface/hub/models--BAAI--bge-large-en-v1.5/snapshots/d4aa6901d3a41ba39fb536a557fa166f842b0e09/tokenizer_config.json'), blob_path=WindowsPath('H:/LLM_CACHE/huggingface/hub/models--BAAI--bge-large-en-v1.5/snapshots/d4aa6901d3a41ba39fb536a557fa166f842b0e09/tokenizer_config.json'), size_on_disk=366, blob_last_accessed=1731928339.878105, blob_last_modified=1731856599.4275472), CachedFileInfo(file_name='vocab.txt', file_path=WindowsPath('H:/LLM_CACHE/huggingface/hub/models--BAAI--bge-large-en-v1.5/snapshots/d4aa6901d3a41ba39fb536a557fa166f842b0e09/vocab.txt'), blob_path=WindowsPath('H:/LLM_CACHE/huggingface/hub/models--BAAI--bge-large-en-v1.5/snapshots/d4aa6901d3a41ba39fb536a557fa166f842b0e09/vocab.txt'), size_on_disk=231508, blob_last_accessed=1731856599.9978607, blob_last_modified=1731856599.9978607), CachedFileInfo(file_name='README.md', file_path=WindowsPath('H:/LLM_CACHE/huggingface/hub/models--BAAI--bge-large-en-v1.5/snapshots/d4aa6901d3a41ba39fb536a557fa166f842b0e09/README.md'), blob_path=WindowsPath('H:/LLM_CACHE/huggingface/hub/models--BAAI--bge-large-en-v1.5/snapshots/d4aa6901d3a41ba39fb536a557fa166f842b0e09/README.md'), size_on_disk=94607, blob_last_accessed=1731928338.9083118, blob_last_modified=1731856546.6985092), CachedFileInfo(file_name='tokenizer.json', file_path=WindowsPath('H:/LLM_CACHE/huggingface/hub/models--BAAI--bge-large-en-v1.5/snapshots/d4aa6901d3a41ba39fb536a557fa166f842b0e09/tokenizer.json'), blob_path=WindowsPath('H:/LLM_CACHE/huggingface/hub/models--BAAI--bge-large-en-v1.5/snapshots/d4aa6901d3a41ba39fb536a557fa166f842b0e09/tokenizer.json'), size_on_disk=711396, blob_last_accessed=1731928339.9426782, blob_last_modified=1731856600.477252), CachedFileInfo(file_name='model.safetensors', file_path=WindowsPath('H:/LLM_CACHE/huggingface/hub/models--BAAI--bge-large-en-v1.5/snapshots/d4aa6901d3a41ba39fb536a557fa166f842b0e09/model.safetensors'), blob_path=WindowsPath('H:/LLM_CACHE/huggingface/hub/models--BAAI--bge-large-en-v1.5/snapshots/d4aa6901d3a41ba39fb536a557fa166f842b0e09/model.safetensors'), size_on_disk=1340616616, blob_last_accessed=1731928339.5444646, blob_last_modified=1731856596.5260582), CachedFileInfo(file_name='sentence_bert_config.json', file_path=WindowsPath('H:/LLM_CACHE/huggingface/hub/models--BAAI--bge-large-en-v1.5/snapshots/d4aa6901d3a41ba39fb536a557fa166f842b0e09/sentence_bert_config.json'), blob_path=WindowsPath('H:/LLM_CACHE/huggingface/hub/models--BAAI--bge-large-en-v1.5/snapshots/d4aa6901d3a41ba39fb536a557fa166f842b0e09/sentence_bert_config.json'), size_on_disk=52, blob_last_accessed=1731928339.1688309, blob_last_modified=1731856547.0709732), CachedFileInfo(file_name='config.json', file_path=WindowsPath('H:/LLM_CACHE/huggingface/hub/models--BAAI--bge-large-en-v1.5/snapshots/d4aa6901d3a41ba39fb536a557fa166f842b0e09/1_Pooling/config.json'), blob_path=WindowsPath('H:/LLM_CACHE/huggingface/hub/models--BAAI--bge-large-en-v1.5/snapshots/d4aa6901d3a41ba39fb536a557fa166f842b0e09/1_Pooling/config.json'), size_on_disk=191, blob_last_accessed=1731928340.2424898, blob_last_modified=1731856601.814767), CachedFileInfo(file_name='modules.json', file_path=WindowsPath('H:/LLM_CACHE/huggingface/hub/models--BAAI--bge-large-en-v1.5/snapshots/d4aa6901d3a41ba39fb536a557fa166f842b0e09/modules.json'), blob_path=WindowsPath('H:/LLM_CACHE/huggingface/hub/models--BAAI--bge-large-en-v1.5/snapshots/d4aa6901d3a41ba39fb536a557fa166f842b0e09/modules.json'), size_on_disk=349, blob_last_accessed=1731928339.031535, blob_last_modified=1731856546.080708), CachedFileInfo(file_name='special_tokens_map.json', file_path=WindowsPath('H:/LLM_CACHE/huggingface/hub/models--BAAI--bge-large-en-v1.5/snapshots/d4aa6901d3a41ba39fb536a557fa166f842b0e09/special_tokens_map.json'), blob_path=WindowsPath('H:/LLM_CACHE/huggingface/hub/models--BAAI--bge-large-en-v1.5/snapshots/d4aa6901d3a41ba39fb536a557fa166f842b0e09/special_tokens_map.json'), size_on_disk=125, blob_last_accessed=1731928339.8788953, blob_last_modified=1731856601.0301104)}), refs=frozenset({'main'}), last_modified=1731856601.814767)}), last_accessed=1731928340.2424898, last_modified=1731856601.814767), CachedRepoInfo(repo_id='HuggingFaceH4/mistral-7b-anthropic', repo_type='model', repo_path=WindowsPath('H:/LLM_CACHE/huggingface/hub/models--HuggingFaceH4--mistral-7b-anthropic'), size_on_disk=24595, nb_files=2, revisions=frozenset({CachedRevisionInfo(commit_hash='5734eec58311d9bc284a51ad22eb1805f2b28a5d', snapshot_path=WindowsPath('H:/LLM_CACHE/huggingface/hub/models--HuggingFaceH4--mistral-7b-anthropic/snapshots/5734eec58311d9bc284a51ad22eb1805f2b28a5d'), size_on_disk=24595, files=frozenset({CachedFileInfo(file_name='model.safetensors.index.json', file_path=WindowsPath('H:/LLM_CACHE/huggingface/hub/models--HuggingFaceH4--mistral-7b-anthropic/snapshots/5734eec58311d9bc284a51ad22eb1805f2b28a5d/model.safetensors.index.json'), blob_path=WindowsPath('H:/LLM_CACHE/huggingface/hub/models--HuggingFaceH4--mistral-7b-anthropic/snapshots/5734eec58311d9bc284a51ad22eb1805f2b28a5d/model.safetensors.index.json'), size_on_disk=23950, blob_last_accessed=1731862729.606779, blob_last_modified=1731862729.596382), CachedFileInfo(file_name='config.json', file_path=WindowsPath('H:/LLM_CACHE/huggingface/hub/models--HuggingFaceH4--mistral-7b-anthropic/snapshots/5734eec58311d9bc284a51ad22eb1805f2b28a5d/config.json'), blob_path=WindowsPath('H:/LLM_CACHE/huggingface/hub/models--HuggingFaceH4--mistral-7b-anthropic/snapshots/5734eec58311d9bc284a51ad22eb1805f2b28a5d/config.json'), size_on_disk=645, blob_last_accessed=1731862729.2282898, blob_last_modified=1731862729.1931005)}), refs=frozenset({'main'}), last_modified=1731862729.596382)}), last_accessed=1731862729.606779, last_modified=1731862729.596382), CachedRepoInfo(repo_id='mistralai/Mistral-7B-v0.1', repo_type='model', repo_path=WindowsPath('H:/LLM_CACHE/huggingface/hub/models--mistralai--Mistral-7B-v0.1'), size_on_disk=14485813893, nb_files=9, revisions=frozenset({CachedRevisionInfo(commit_hash='7231864981174d9bee8c7687c24c8344414eae6b', snapshot_path=WindowsPath('H:/LLM_CACHE/huggingface/hub/models--mistralai--Mistral-7B-v0.1/snapshots/7231864981174d9bee8c7687c24c8344414eae6b'), size_on_disk=14485813893, files=frozenset({CachedFileInfo(file_name='generation_config.json', file_path=WindowsPath('H:/LLM_CACHE/huggingface/hub/models--mistralai--Mistral-7B-v0.1/snapshots/7231864981174d9bee8c7687c24c8344414eae6b/generation_config.json'), blob_path=WindowsPath('H:/LLM_CACHE/huggingface/hub/models--mistralai--Mistral-7B-v0.1/snapshots/7231864981174d9bee8c7687c24c8344414eae6b/generation_config.json'), size_on_disk=116, blob_last_accessed=1731871436.501342, blob_last_modified=1731868137.9686358), CachedFileInfo(file_name='config.json', file_path=WindowsPath('H:/LLM_CACHE/huggingface/hub/models--mistralai--Mistral-7B-v0.1/snapshots/7231864981174d9bee8c7687c24c8344414eae6b/config.json'), blob_path=WindowsPath('H:/LLM_CACHE/huggingface/hub/models--mistralai--Mistral-7B-v0.1/snapshots/7231864981174d9bee8c7687c24c8344414eae6b/config.json'), size_on_disk=571, blob_last_accessed=1731871420.714258, blob_last_modified=1731867820.564622), CachedFileInfo(file_name='model.safetensors.index.json', file_path=WindowsPath('H:/LLM_CACHE/huggingface/hub/models--mistralai--Mistral-7B-v0.1/snapshots/7231864981174d9bee8c7687c24c8344414eae6b/model.safetensors.index.json'), blob_path=WindowsPath('H:/LLM_CACHE/huggingface/hub/models--mistralai--Mistral-7B-v0.1/snapshots/7231864981174d9bee8c7687c24c8344414eae6b/model.safetensors.index.json'), size_on_disk=25125, blob_last_accessed=1731871420.735528, blob_last_modified=1731867821.2329204), CachedFileInfo(file_name='model-00001-of-00002.safetensors', file_path=WindowsPath('H:/LLM_CACHE/huggingface/hub/models--mistralai--Mistral-7B-v0.1/snapshots/7231864981174d9bee8c7687c24c8344414eae6b/model-00001-of-00002.safetensors'), blob_path=WindowsPath('H:/LLM_CACHE/huggingface/hub/models--mistralai--Mistral-7B-v0.1/snapshots/7231864981174d9bee8c7687c24c8344414eae6b/model-00001-of-00002.safetensors'), size_on_disk=9942981696, blob_last_accessed=1731871420.894819, blob_last_modified=1731868082.3890052), CachedFileInfo(file_name='special_tokens_map.json', file_path=WindowsPath('H:/LLM_CACHE/huggingface/hub/models--mistralai--Mistral-7B-v0.1/snapshots/7231864981174d9bee8c7687c24c8344414eae6b/special_tokens_map.json'), blob_path=WindowsPath('H:/LLM_CACHE/huggingface/hub/models--mistralai--Mistral-7B-v0.1/snapshots/7231864981174d9bee8c7687c24c8344414eae6b/special_tokens_map.json'), size_on_disk=414, blob_last_accessed=1731868139.5113726, blob_last_modified=1731868139.5113726), CachedFileInfo(file_name='model-00002-of-00002.safetensors', file_path=WindowsPath('H:/LLM_CACHE/huggingface/hub/models--mistralai--Mistral-7B-v0.1/snapshots/7231864981174d9bee8c7687c24c8344414eae6b/model-00002-of-00002.safetensors'), blob_path=WindowsPath('H:/LLM_CACHE/huggingface/hub/models--mistralai--Mistral-7B-v0.1/snapshots/7231864981174d9bee8c7687c24c8344414eae6b/model-00002-of-00002.safetensors'), size_on_disk=4540516344, blob_last_accessed=1731871431.4702952, blob_last_modified=1731868123.4528618), CachedFileInfo(file_name='tokenizer.json', file_path=WindowsPath('H:/LLM_CACHE/huggingface/hub/models--mistralai--Mistral-7B-v0.1/snapshots/7231864981174d9bee8c7687c24c8344414eae6b/tokenizer.json'), blob_path=WindowsPath('H:/LLM_CACHE/huggingface/hub/models--mistralai--Mistral-7B-v0.1/snapshots/7231864981174d9bee8c7687c24c8344414eae6b/tokenizer.json'), size_on_disk=1795188, blob_last_accessed=1731871420.521342, blob_last_modified=1731868139.1257741), CachedFileInfo(file_name='tokenizer.model', file_path=WindowsPath('H:/LLM_CACHE/huggingface/hub/models--mistralai--Mistral-7B-v0.1/snapshots/7231864981174d9bee8c7687c24c8344414eae6b/tokenizer.model'), blob_path=WindowsPath('H:/LLM_CACHE/huggingface/hub/models--mistralai--Mistral-7B-v0.1/snapshots/7231864981174d9bee8c7687c24c8344414eae6b/tokenizer.model'), size_on_disk=493443, blob_last_accessed=1731868138.4377525, blob_last_modified=1731868138.4377525), CachedFileInfo(file_name='tokenizer_config.json', file_path=WindowsPath('H:/LLM_CACHE/huggingface/hub/models--mistralai--Mistral-7B-v0.1/snapshots/7231864981174d9bee8c7687c24c8344414eae6b/tokenizer_config.json'), blob_path=WindowsPath('H:/LLM_CACHE/huggingface/hub/models--mistralai--Mistral-7B-v0.1/snapshots/7231864981174d9bee8c7687c24c8344414eae6b/tokenizer_config.json'), size_on_disk=996, blob_last_accessed=1731871420.5193417, blob_last_modified=1731868138.2500858)}), refs=frozenset({'main'}), last_modified=1731868139.5113726)}), last_accessed=1731871436.501342, last_modified=1731868139.5113726), CachedRepoInfo(repo_id='gpt2', repo_type='model', repo_path=WindowsPath('H:/LLM_CACHE/huggingface/hub/models--gpt2'), size_on_disk=550959861, nb_files=7, revisions=frozenset({CachedRevisionInfo(commit_hash='607a30d783dfa663caf39e06633721c8d4cfcd7e', snapshot_path=WindowsPath('H:/LLM_CACHE/huggingface/hub/models--gpt2/snapshots/607a30d783dfa663caf39e06633721c8d4cfcd7e'), size_on_disk=550959861, files=frozenset({CachedFileInfo(file_name='vocab.json', file_path=WindowsPath('H:/LLM_CACHE/huggingface/hub/models--gpt2/snapshots/607a30d783dfa663caf39e06633721c8d4cfcd7e/vocab.json'), blob_path=WindowsPath('H:/LLM_CACHE/huggingface/hub/models--gpt2/snapshots/607a30d783dfa663caf39e06633721c8d4cfcd7e/vocab.json'), size_on_disk=1042301, blob_last_accessed=1731871162.5533931, blob_last_modified=1731871162.5533931), CachedFileInfo(file_name='tokenizer.json', file_path=WindowsPath('H:/LLM_CACHE/huggingface/hub/models--gpt2/snapshots/607a30d783dfa663caf39e06633721c8d4cfcd7e/tokenizer.json'), blob_path=WindowsPath('H:/LLM_CACHE/huggingface/hub/models--gpt2/snapshots/607a30d783dfa663caf39e06633721c8d4cfcd7e/tokenizer.json'), size_on_disk=1355256, blob_last_accessed=1731871386.3547046, blob_last_modified=1731871163.7056894), CachedFileInfo(file_name='config.json', file_path=WindowsPath('H:/LLM_CACHE/huggingface/hub/models--gpt2/snapshots/607a30d783dfa663caf39e06633721c8d4cfcd7e/config.json'), blob_path=WindowsPath('H:/LLM_CACHE/huggingface/hub/models--gpt2/snapshots/607a30d783dfa663caf39e06633721c8d4cfcd7e/config.json'), size_on_disk=665, blob_last_accessed=1731871386.5694757, blob_last_modified=1731871161.7084994), CachedFileInfo(file_name='generation_config.json', file_path=WindowsPath('H:/LLM_CACHE/huggingface/hub/models--gpt2/snapshots/607a30d783dfa663caf39e06633721c8d4cfcd7e/generation_config.json'), blob_path=WindowsPath('H:/LLM_CACHE/huggingface/hub/models--gpt2/snapshots/607a30d783dfa663caf39e06633721c8d4cfcd7e/generation_config.json'), size_on_disk=124, blob_last_accessed=1731871387.218626, blob_last_modified=1731871169.8156066), CachedFileInfo(file_name='merges.txt', file_path=WindowsPath('H:/LLM_CACHE/huggingface/hub/models--gpt2/snapshots/607a30d783dfa663caf39e06633721c8d4cfcd7e/merges.txt'), blob_path=WindowsPath('H:/LLM_CACHE/huggingface/hub/models--gpt2/snapshots/607a30d783dfa663caf39e06633721c8d4cfcd7e/merges.txt'), size_on_disk=456318, blob_last_accessed=1731871163.0527909, blob_last_modified=1731871163.0527909), CachedFileInfo(file_name='model.safetensors', file_path=WindowsPath('H:/LLM_CACHE/huggingface/hub/models--gpt2/snapshots/607a30d783dfa663caf39e06633721c8d4cfcd7e/model.safetensors'), blob_path=WindowsPath('H:/LLM_CACHE/huggingface/hub/models--gpt2/snapshots/607a30d783dfa663caf39e06633721c8d4cfcd7e/model.safetensors'), size_on_disk=548105171, blob_last_accessed=1731871386.6782799, blob_last_modified=1731871169.375985), CachedFileInfo(file_name='tokenizer_config.json', file_path=WindowsPath('H:/LLM_CACHE/huggingface/hub/models--gpt2/snapshots/607a30d783dfa663caf39e06633721c8d4cfcd7e/tokenizer_config.json'), blob_path=WindowsPath('H:/LLM_CACHE/huggingface/hub/models--gpt2/snapshots/607a30d783dfa663caf39e06633721c8d4cfcd7e/tokenizer_config.json'), size_on_disk=26, blob_last_accessed=1731871386.3221827, blob_last_modified=1731871161.4377763)}), refs=frozenset({'main'}), last_modified=1731871169.8156066)}), last_accessed=1731871387.218626, last_modified=1731871169.8156066)}), warnings=[CorruptedCacheException('Repo path is not a directory: H:\\\\LLM_CACHE\\\\huggingface\\\\hub\\\\version.txt')])"
      ]
     },
     "metadata": {},
     "output_type": "display_data"
    },
    {
     "name": "stdout",
     "output_type": "stream",
     "text": [
      "\n",
      "\n",
      "The following code is used to extract text from a PDF file using Python:\n",
      "\n",
      "import PyPDF2\n",
      "\n",
      "pdf_file = open('filename.pdf', 'rb')\n",
      "\n",
      "pdf_reader = PyPDF2.PdfFileReader(pdf_file)\n",
      "\n",
      "num_pages = pdf_reader.numPages\n",
      "\n",
      "for i in range(num_pages):\n",
      "\n",
      "    page = pdf_reader.getPage(i)\n",
      "\n",
      "    text = page.extractText()\n",
      "\n",
      "    print(text)\n",
      "\n",
      "pdf_file.close()\n",
      "\n",
      "This code uses the PyPDF2 library to read the PDF file and extract the text from each page. The text is then printed to the console.\n"
     ]
    }
   ],
   "source": [
    "###pip install huggingface_hub[\"cli\"]\n",
    "###Then run the command:\n",
    "### ====> huggingface-cli delete-cache\n",
    "\n",
    "from huggingface_hub import scan_cache_dir\n",
    "hf_cache_info = scan_cache_dir()\n",
    "display(hf_cache_info)\n",
    "\n",
    "\n",
    "### Designate model +  Create & test the defined LLM via HuggingFace HUB API (online)\n",
    "from langchain_huggingface import HuggingFaceEndpoint\n",
    "\n",
    "\n",
    "# Define the LLM\n",
    "llm = HuggingFaceEndpoint(#repo_id='tiiuae/falcon-7b-instruct',\n",
    "                          repo_id=\"mistralai/Mistral-7B-v0.1\",\n",
    "                          #repo_id=\"HuggingFaceH4/zephyr-7b-beta\",\n",
    "                          #repo_id=\"HuggingFaceH4/mistral-7b-anthropic\",\n",
    "                          max_new_tokens=1024,\n",
    "                          top_k=10,\n",
    "                          top_p=0.95,\n",
    "                          typical_p=0.95,\n",
    "                          temperature=0.5,\n",
    "                          repetition_penalty=1.03\n",
    "                          #callbacks=callbacks,\n",
    "                          #huggingfacehub_api_token=huggingfacehub_api_token\n",
    "                          )\n",
    "        \n",
    "# Predict the words following the text in question\n",
    "question = \"\"\"Explain how to use python code to extract text from a PDF file.\"\"\"\n",
    "output = llm.invoke(question)\n",
    "\n",
    "print(output)"
   ]
  },
  {
   "cell_type": "code",
   "execution_count": 11,
   "id": "6844c0bb",
   "metadata": {},
   "outputs": [],
   "source": [
    "from langchain.prompts import PromptTemplate\n",
    "\n",
    "prompt_template = \"\"\"Use the following pieces of context to answer the question at the end. Please follow the following rules:\n",
    "1. If you don't know the answer, don't try to make up an answer. Just say \"I can't find the final answer but you may want to check the following links\".\n",
    "2. If you find the answer, write the answer in a concise way with five sentences maximum.\n",
    "\n",
    "{context}\n",
    "\n",
    "Question: {question}\n",
    "\n",
    "Helpful Answer:\n",
    "\"\"\"\n",
    "\n",
    "PROMPT = PromptTemplate(\n",
    " template=prompt_template, input_variables=[\"context\", \"question\"]\n",
    ")"
   ]
  },
  {
   "cell_type": "code",
   "execution_count": 12,
   "id": "a8791fbb",
   "metadata": {},
   "outputs": [
    {
     "name": "stdout",
     "output_type": "stream",
     "text": [
      "There are 4 documents retrieved which are relevant to the query. Display the first one:\n",
      "\n",
      "Original Research Article\n",
      "Dement Geriatr Cogn Disord 2004;18:159–164\n",
      "DOI: 10.1159/000079196\n",
      "A Model for Quality of Life Measures in\n",
      "Patients with Dementia:\n",
      "Lawton’s Next Step\n",
      "C. Jonkera,b D.L. Gerritsenb P.R. Bosboomc J.T. Van der Steenb\n",
      "aDepartment of Psychiatry and bInstitute for Research in Extramural Medicine, VU University Medical Center, and\n",
      "cDepartment of Clinical Neuropsychology, VU University, Amsterdam, The Netherlands\n",
      "Accepted: January 22, 2004\n",
      "Published online: June 21, 2004\n",
      "Prof. Dr. C. Jonker, Behavioral Neurologist\n",
      "Department of Psychiatry and EMGO Institute\n",
      "VU University Medical Center, Van der Boechorststraat 7\n",
      "NL–1081 BT Amsterdam (The Netherlands)\n",
      "Tel. +31 20 4446770, Fax +31 20 4446775, E-Mail c.jonker.emgo@med.vu.nl\n",
      "ABC\n",
      "Fax +41 61 306 12 34\n",
      "E-Mail karger@karger.ch\n",
      "www.karger.com\n",
      "© 2004 S. Karger AG, Basel\n",
      "1420–8008/04/0182–0159$21.00/0\n",
      "Accessible online at:\n"
     ]
    }
   ],
   "source": [
    "#query = \"\"\"Give a 500 word summary of the paper titled:  A Model for Quality of Life Measures in Patients with Dementia:Lawton’s Next Step. Start with stating the authors en journal + the abstract and then summarize the introduction, methodology, results and conclusion.\"\"\"  \n",
    "query = \"\"\"What are the actual pagenumers of the paper titled: A Model for Quality of Life Measures in Patients with Dementia:Lawton’s \"\"\"  \n",
    "         # Sample question, change to other questions you are interested in.\n",
    "\n",
    "\n",
    "relevant_documents = vectorstore.similarity_search(query)\n",
    "print(f'There are {len(relevant_documents)} documents retrieved which are relevant to the query. Display the first one:\\n')\n",
    "print(relevant_documents[0].page_content)"
   ]
  },
  {
   "cell_type": "code",
   "execution_count": 13,
   "id": "d0d2f5e6",
   "metadata": {},
   "outputs": [],
   "source": [
    "# Use the retrieved documents to answer the question\n",
    "# The `chain_type` is set to \"stuff\" to use the `RetrievalQA` class.\n",
    "# k=1 means that only the most relevant document is used to answer the question.\n",
    "# The `return_source_documents` is set to True to return the source documents used to answer the question.\n",
    "\n",
    "\n",
    "#### IF ANSWER is inconsistent change K to higher number\n",
    "\n",
    "from langchain.chains import RetrievalQA\n",
    "\n",
    "retrievalQA = RetrievalQA.from_chain_type(\n",
    "    llm=llm,\n",
    "    chain_type=\"stuff\",\n",
    "    retriever=vectorstore.as_retriever(search_type=\"similarity\", search_kwargs={\"k\": 10}),\n",
    "    return_source_documents=True,\n",
    "    chain_type_kwargs={\"prompt\": PROMPT}\n",
    ")"
   ]
  },
  {
   "cell_type": "code",
   "execution_count": 14,
   "id": "b02e9c6e",
   "metadata": {},
   "outputs": [
    {
     "name": "stdout",
     "output_type": "stream",
     "text": [
      "\n",
      "1. The abstract starts on page 159.\n",
      "2. The article starts on page 159.\n",
      "3. The first reference is on page 160.\n",
      "4. The last reference is on page 164.\n",
      "5. The first figure is on page 161.\n",
      "6. The last figure is on page 162.\n",
      "7. The first table is on page 161.\n",
      "8. The last table is on page 162.\n",
      "9. The first box is on page 162.\n",
      "10. The last box is on page 162.\n",
      "\n",
      "Accessible online at:\n",
      "www.karger.com/dem\n"
     ]
    }
   ],
   "source": [
    "# Call the QA chain with our query.\n",
    "result = retrievalQA.invoke({\"query\": query})\n",
    "print(result['result'])"
   ]
  },
  {
   "cell_type": "code",
   "execution_count": 15,
   "id": "b4883afb",
   "metadata": {},
   "outputs": [
    {
     "name": "stdout",
     "output_type": "stream",
     "text": [
      "There are 10 documents retrieved which are relevant to the query.\n",
      "****************************************************************************************************\n",
      "Relevant Document #1:\n",
      " Source file: LAWTON\\QoL reference Lawton.pdf, Page: 0\n",
      "Content: Original Research Article\n",
      "Dement Geriatr Cogn Disord 2004;18:159–164\n",
      "DOI: 10.1159/000079196\n",
      "A Model for Quality of Life Measures in\n",
      "Patients with Dementia:\n",
      "Lawton’s Next Step\n",
      "C. Jonkera,b D.L. Gerritsenb P.R. Bosboomc J.T. Van der Steenb\n",
      "aDepartment of Psychiatry and bInstitute for Research in Extramural Medicine, VU University Medical Center, and\n",
      "cDepartment of Clinical Neuropsychology, VU University, Amsterdam, The Netherlands\n",
      "Accepted: January 22, 2004\n",
      "Published online: June 21, 2004\n",
      "Prof. Dr. C. Jonker, Behavioral Neurologist\n",
      "Department of Psychiatry and EMGO Institute\n",
      "VU University Medical Center, Van der Boechorststraat 7\n",
      "NL–1081 BT Amsterdam (The Netherlands)\n",
      "Tel. +31 20 4446770, Fax +31 20 4446775, E-Mail c.jonker.emgo@med.vu.nl\n",
      "ABC\n",
      "Fax +41 61 306 12 34\n",
      "E-Mail karger@karger.ch\n",
      "www.karger.com\n",
      "© 2004 S. Karger AG, Basel\n",
      "1420–8008/04/0182–0159$21.00/0\n",
      "Accessible online at:\n",
      "####################################################################################################\n",
      "There are 10 documents retrieved which are relevant to the query.\n",
      "Relevant Document #2:\n",
      " Source file: LAWTON\\QoL reference Lawton.pdf, Page: 5\n",
      "Content: health-related quality of life. Ann Intern Med\n",
      "1993;118:622–629.\n",
      "28 Gill TM: Quality of life assessment: Values and\n",
      "pitfalls. J R Soc Med 1995;88:680–682.\n",
      "29 Hunt SM: The problem of quality of life (edito-\n",
      "rial). Qual Life Res 1997;6:205–212.\n",
      "30 Lawton MP: Environment and other determi-\n",
      "nants of well-being in older people. Gerontol-\n",
      "ogist 1983;4:349–357.\n",
      "31 Lawton MP: A multidimensional view of quali-\n",
      "ty of life in frail elders; in Birren JE, Lubben JE,\n",
      "Rowe JC, Deutchman DE (eds): Quality of Life\n",
      "in the Frail Elderly. San Diego, Academic\n",
      "Press, 1991, pp 3–27.\n",
      "32 Lawton MP: Assessing quality of life in Alz-\n",
      "heimer disease research. Alzheimer Dis Assoc\n",
      "Disord 1997;11(suppl 6):91–99.\n",
      "33 Carr AJ, Higginson IJ: Are quality of life mea-\n",
      "sures patient centred? BMJ 2001;322:1357–\n",
      "1360.\n",
      "34 Rabins PV, Kasper JD: Measuring quality of\n",
      "life in dementia: Conceptual and practical is-\n",
      "####################################################################################################\n",
      "There are 10 documents retrieved which are relevant to the query.\n",
      "Relevant Document #3:\n",
      " Source file: LAWTON\\QoL reference Lawton.pdf, Page: 3\n",
      "Content: 20], we chose a hierarchical approach to explain the rela-\n",
      "tions between the dimensions in dementia. This corre-\n",
      "sponds largely with Lawton’s work. However, we do not\n",
      "consider ‘behavioral competence’ as a central component\n",
      "of QOL in dementia. Moreover, Lawton does not incor-\n",
      "porate ‘personal characteristics’. In view of the work on\n",
      "QOL in physical conditions and mental disorders in\n",
      "which personal characteristics and objective QOL indica-\n",
      "tors act as determinants of subjective health perceptions\n",
      "and psychological well-being, we consider dimensions\n",
      "that are related to dementia (‘behavioral competence’ in\n",
      "Lawton’s approach) as well as the environment (‘objective\n",
      "environment’) and ‘personal factors’ that are not related\n",
      "to dementia (not in Lawton’s approach) as determinants\n",
      "of the evaluative dimensions ‘evaluation’ (‘domain-spe-\n",
      "cific perceived QOL’) and ‘psychological well-being’\n",
      "####################################################################################################\n",
      "There are 10 documents retrieved which are relevant to the query.\n",
      "Relevant Document #4:\n",
      " Source file: LAWTON\\QoL reference Lawton.pdf, Page: 5\n",
      "Content: 193–212.\n",
      "15 Lawton MP: Quality of life in Alzheimer dis-\n",
      "ease. Alzheimer Dis Assoc Disord 1994;8\n",
      "(suppl 3):138–150.\n",
      "16 Zautra A, Goodhart D: Quality of life indica-\n",
      "tors: A review of literature. Community Ment\n",
      "Health Rev 1979;4:1–10.\n",
      "17 Schuessler KF, Fisher GA: Quality of life re-\n",
      "search and sociology. Annu Rev Sociol 1985;\n",
      "11:129–149.\n",
      "18 Diener E: Subjective wellbeing. Psychol Bull\n",
      "1984;95:542–575.\n",
      "19 Diener E: Assessing subjective wellbeing: Pro-\n",
      "gress and opportunities. Soc Indicators Res\n",
      "1994;31:103–157.\n",
      "20 Wilson IB, Cleary PD: Linking clinical vari-\n",
      "ables with health-related quality of life: A con-\n",
      "ceptual model of patient outcomes. JAMA\n",
      "1995;273:59–65.\n",
      "21 World Health Organization: Constitution of\n",
      "World Health Organization; Basic Documents.\n",
      "Geneva, 1948.\n",
      "22 Bergner M, Bobbit RA, Kressel S, Pollard WE,\n",
      "Gilson BS, Morris JR: The Sickness Impact\n",
      "####################################################################################################\n",
      "There are 10 documents retrieved which are relevant to the query.\n",
      "Relevant Document #5:\n",
      " Source file: LAWTON\\QoL reference Lawton.pdf, Page: 0\n",
      "Content: Accessible online at:\n",
      "www.karger.com/dem\n",
      "Key Words\n",
      "Dementia W Quality of lifeW Well-being W Broadness W\n",
      "Domains W Subjectivity W Model\n",
      "Abstract\n",
      "The introduction of drugs that are claimed to improve\n",
      "cognitive function and activities of daily living in patients\n",
      "with Alzheimer’s disease raises the question of whether\n",
      "these drugs also influence dementia patients’ quality of\n",
      "life (QOL). We describe a hierarchic model of QOL of\n",
      "dementia patients, which can guide the development of\n",
      "measurement instruments. After initially discussing\n",
      "broadly QOL research, we focus on two highly important\n",
      "characteristics of the concept, its broadness and subjec-\n",
      "tivity, against the background of the relevant literature\n",
      "on QOL in dementia. Dementia-specific dimensions and\n",
      "domains are presented. We identify psychological well-\n",
      "being as the core dimension for QOL of patients with\n",
      "dementia.\n",
      "####################################################################################################\n",
      "There are 10 documents retrieved which are relevant to the query.\n",
      "Relevant Document #6:\n",
      " Source file: LAWTON\\QoL reference Lawton.pdf, Page: 4\n",
      "Content: domains. Our model adds to the existing literature an\n",
      "approach to the relationship between the dimensions.\n",
      "Lawton’s description of these relationships is not com-\n",
      "plete and Brod et al. [1, 7], although they differentiate\n",
      "between determinants and components, do not describe\n",
      "the relationships between the components of QOL.\n",
      "Conclusion\n",
      "In this article we present a hierarchical model for QOL\n",
      "of patients with dementia that identifies relationships\n",
      "between the dimensions in the model and can be used to\n",
      "develop and study the effect of QOL interventions. The\n",
      "starting point for QOL in this model is psychological well-\n",
      "being. Psychological well-being is considered to be the\n",
      "central indicator for QOL of patients with dementia. Sec-\n",
      "ond, we advocate that QOL in dementia should not be\n",
      "based on domains that are influenced by dementia exclu-\n",
      "sively. Our approach is based on the view that all life\n",
      "####################################################################################################\n",
      "There are 10 documents retrieved which are relevant to the query.\n",
      "Relevant Document #7:\n",
      " Source file: LAWTON\\QoL reference Lawton.pdf, Page: 2\n",
      "Content: Quality of Life Measures in Patients with\n",
      "Dementia\n",
      "Dement Geriatr Cogn Disord 2004;18:159–164 161\n",
      "Table 1. Domains in QOL approaches in dementia, grouped by Lawton’s sectors\n",
      "Lawton’s sectors Domains\n",
      "Lawton [15, 30–32] Brod et al. [1, 7] Rabins et al. [9] Volicer and Bloom [13]\n",
      "Psychological well-being positive affect\n",
      "negative affect\n",
      "feelings and mood\n",
      "Behavioral competence health\n",
      "functional health\n",
      "cognition\n",
      "time use\n",
      "social behavior\n",
      "interaction capacity social interaction\n",
      "awareness of self\n",
      "medical issues\n",
      "psychiatric symptoms\n",
      "meaningful activities\n",
      "Objective environment response to surroundings\n",
      "Perceived QOL sense of aesthetics\n",
      "feelings of belonging\n",
      "enjoyment of activities\n",
      "Personal characteristics1 self-esteem\n",
      "1 Added to Lawton’s sectors.\n",
      "later to older people with dementia. He defined QOL as\n",
      "the ‘multidimensional evaluation, by both intra-personal\n",
      "####################################################################################################\n",
      "There are 10 documents retrieved which are relevant to the query.\n",
      "Relevant Document #8:\n",
      " Source file: LAWTON\\QoL reference Lawton.pdf, Page: 4\n",
      "Content: oneself may well be important for QOL for one individu-\n",
      "al, but less so or even not important for the other.\n",
      "According to figure1, QOL can be measured at three\n",
      "levels. Although the relative importance of the domains\n",
      "may vary across individuals, it is assumed that, for all\n",
      "patients with dementia, a number of these are important,\n",
      "and contribute to psychological well-being.\n",
      "What Our Model Adds\n",
      "The relationships between traditional clinical variables\n",
      "of dementia and health status measures has not been con-\n",
      "ceptualized in much of the research done to date on\n",
      "dementia. Our model facilitates the understanding of\n",
      "these associations, essentially based on the dimensions\n",
      "presented by Lawton. This model should be useful in the\n",
      "formulation of strategies to improve QOL in dementia.\n",
      "Changes in the disease process (e.g. progression of demen-\n",
      "tia) would be reflected in changes on dimensions and\n",
      "####################################################################################################\n",
      "There are 10 documents retrieved which are relevant to the query.\n",
      "Relevant Document #9:\n",
      " Source file: LAWTON\\QoL reference Lawton.pdf, Page: 3\n",
      "Content: (‘psychological well-being’) (fig.1).\n",
      "Figure 1 presents a hierarchical model for QOL in\n",
      "dementia that includes the interrelation between dimen-\n",
      "sions. It addresses all aspects of life of a dementia patient,\n",
      "also those not affected by dementia. Thus, our approach is\n",
      "disease-specific, but not in that regard that all dimensions\n",
      "of the model are influenced by the disease. In the model,\n",
      "the causal pathways that link different types of outcomes\n",
      "to each other are identified. The choice of the dimensions\n",
      "and their domains is based on the aforementioned re-\n",
      "search. Until the model is empirically tested to identify\n",
      "key concepts, we rely on the domains suggested by the\n",
      "focus groups in the studies of Brod et al. [1, 7] and Rabins\n",
      "et al. [9]. In addition to the domains that are related to\n",
      "dementia, ‘environment’ and the (non-dementia-related)\n",
      "####################################################################################################\n",
      "There are 10 documents retrieved which are relevant to the query.\n",
      "Relevant Document #10:\n",
      " Source file: LAWTON\\QoL reference Lawton.pdf, Page: 4\n",
      "Content: Quality of Life Measures in Patients with\n",
      "Dementia\n",
      "Dement Geriatr Cogn Disord 2004;18:159–164 163\n",
      "Fig. 1. Hierarchic relationships between\n",
      "QOL dimensions in dementia.\n",
      "pared to Lawton’s field ‘domain-specific perceived QOL’.\n",
      "Also the evaluation of the domains is influenced by per-\n",
      "sonal factors and environment. At the highest level in the\n",
      "model ‘psychological well-being’ is located – the central\n",
      "outcome measure – which can be described as the subjec-\n",
      "tive evaluation of life in general, as a result of the appre-\n",
      "ciation of the various life domains. This means that the\n",
      "subjective evaluation of the various relevant (life) do-\n",
      "mains determines psychological well-being in general. For\n",
      "each individual the various domains will have their indi-\n",
      "vidual contribution to psychological well-being. For in-\n",
      "stance, loss of ADL functions like dressing and washing\n",
      "####################################################################################################\n",
      "There are 10 documents retrieved which are relevant to the query.\n"
     ]
    }
   ],
   "source": [
    "relevant_docs = result['source_documents']\n",
    "print(f'There are {len(relevant_docs)} documents retrieved which are relevant to the query.')\n",
    "print(\"*\" * 100)\n",
    "\n",
    "for i, doc in enumerate(relevant_docs):\n",
    "    print(f\"Relevant Document #{i+1}:\\n Source file: {doc.metadata['source']}, Page: {doc.metadata['page']}\\nContent: {doc.page_content}\")\n",
    "    print(\"#\"*100) \n",
    "    print(f'There are {len(relevant_docs)} documents retrieved which are relevant to the query.')"
   ]
  },
  {
   "cell_type": "code",
   "execution_count": null,
   "id": "65bc6c91",
   "metadata": {},
   "outputs": [],
   "source": []
  },
  {
   "cell_type": "code",
   "execution_count": 16,
   "id": "71ff084f",
   "metadata": {},
   "outputs": [
    {
     "data": {
      "text/plain": [
       "[Document(metadata={'source': 'LAWTON\\\\QoL reference Lawton.pdf', 'page': 0}, page_content='Original Research Article\\nDement Geriatr Cogn Disord 2004;18:159–164\\nDOI: 10.1159/000079196\\nA Model for Quality of Life Measures in\\nPatients with Dementia:\\nLawton’s Next Step\\nC. Jonkera,b D.L. Gerritsenb P.R. Bosboomc J.T. Van der Steenb\\naDepartment of Psychiatry and bInstitute for Research in Extramural Medicine, VU University Medical Center, and\\ncDepartment of Clinical Neuropsychology, VU University, Amsterdam, The Netherlands\\nAccepted: January 22, 2004\\nPublished online: June 21, 2004\\nProf. Dr. C. Jonker, Behavioral Neurologist\\nDepartment of Psychiatry and EMGO Institute\\nVU University Medical Center, Van der Boechorststraat 7\\nNL–1081 BT Amsterdam (The Netherlands)\\nTel. +31 20 4446770, Fax +31 20 4446775, E-Mail c.jonker.emgo@med.vu.nl\\nABC\\nFax +41 61 306 12 34\\nE-Mail karger@karger.ch\\nwww.karger.com\\n© 2004 S. Karger AG, Basel\\n1420–8008/04/0182–0159$21.00/0\\nAccessible online at:'),\n",
       " Document(metadata={'source': 'LAWTON\\\\QoL reference Lawton.pdf', 'page': 5}, page_content='health-related quality of life. Ann Intern Med\\n1993;118:622–629.\\n28 Gill TM: Quality of life assessment: Values and\\npitfalls. J R Soc Med 1995;88:680–682.\\n29 Hunt SM: The problem of quality of life (edito-\\nrial). Qual Life Res 1997;6:205–212.\\n30 Lawton MP: Environment and other determi-\\nnants of well-being in older people. Gerontol-\\nogist 1983;4:349–357.\\n31 Lawton MP: A multidimensional view of quali-\\nty of life in frail elders; in Birren JE, Lubben JE,\\nRowe JC, Deutchman DE (eds): Quality of Life\\nin the Frail Elderly. San Diego, Academic\\nPress, 1991, pp 3–27.\\n32 Lawton MP: Assessing quality of life in Alz-\\nheimer disease research. Alzheimer Dis Assoc\\nDisord 1997;11(suppl 6):91–99.\\n33 Carr AJ, Higginson IJ: Are quality of life mea-\\nsures patient centred? BMJ 2001;322:1357–\\n1360.\\n34 Rabins PV, Kasper JD: Measuring quality of\\nlife in dementia: Conceptual and practical is-'),\n",
       " Document(metadata={'source': 'LAWTON\\\\QoL reference Lawton.pdf', 'page': 3}, page_content='20], we chose a hierarchical approach to explain the rela-\\ntions between the dimensions in dementia. This corre-\\nsponds largely with Lawton’s work. However, we do not\\nconsider ‘behavioral competence’ as a central component\\nof QOL in dementia. Moreover, Lawton does not incor-\\nporate ‘personal characteristics’. In view of the work on\\nQOL in physical conditions and mental disorders in\\nwhich personal characteristics and objective QOL indica-\\ntors act as determinants of subjective health perceptions\\nand psychological well-being, we consider dimensions\\nthat are related to dementia (‘behavioral competence’ in\\nLawton’s approach) as well as the environment (‘objective\\nenvironment’) and ‘personal factors’ that are not related\\nto dementia (not in Lawton’s approach) as determinants\\nof the evaluative dimensions ‘evaluation’ (‘domain-spe-\\ncific perceived QOL’) and ‘psychological well-being’'),\n",
       " Document(metadata={'source': 'LAWTON\\\\QoL reference Lawton.pdf', 'page': 5}, page_content='193–212.\\n15 Lawton MP: Quality of life in Alzheimer dis-\\nease. Alzheimer Dis Assoc Disord 1994;8\\n(suppl 3):138–150.\\n16 Zautra A, Goodhart D: Quality of life indica-\\ntors: A review of literature. Community Ment\\nHealth Rev 1979;4:1–10.\\n17 Schuessler KF, Fisher GA: Quality of life re-\\nsearch and sociology. Annu Rev Sociol 1985;\\n11:129–149.\\n18 Diener E: Subjective wellbeing. Psychol Bull\\n1984;95:542–575.\\n19 Diener E: Assessing subjective wellbeing: Pro-\\ngress and opportunities. Soc Indicators Res\\n1994;31:103–157.\\n20 Wilson IB, Cleary PD: Linking clinical vari-\\nables with health-related quality of life: A con-\\nceptual model of patient outcomes. JAMA\\n1995;273:59–65.\\n21 World Health Organization: Constitution of\\nWorld Health Organization; Basic Documents.\\nGeneva, 1948.\\n22 Bergner M, Bobbit RA, Kressel S, Pollard WE,\\nGilson BS, Morris JR: The Sickness Impact'),\n",
       " Document(metadata={'source': 'LAWTON\\\\QoL reference Lawton.pdf', 'page': 0}, page_content='Accessible online at:\\nwww.karger.com/dem\\nKey Words\\nDementia W Quality of lifeW Well-being W Broadness W\\nDomains W Subjectivity W Model\\nAbstract\\nThe introduction of drugs that are claimed to improve\\ncognitive function and activities of daily living in patients\\nwith Alzheimer’s disease raises the question of whether\\nthese drugs also influence dementia patients’ quality of\\nlife (QOL). We describe a hierarchic model of QOL of\\ndementia patients, which can guide the development of\\nmeasurement instruments. After initially discussing\\nbroadly QOL research, we focus on two highly important\\ncharacteristics of the concept, its broadness and subjec-\\ntivity, against the background of the relevant literature\\non QOL in dementia. Dementia-specific dimensions and\\ndomains are presented. We identify psychological well-\\nbeing as the core dimension for QOL of patients with\\ndementia.'),\n",
       " Document(metadata={'source': 'LAWTON\\\\QoL reference Lawton.pdf', 'page': 4}, page_content='domains. Our model adds to the existing literature an\\napproach to the relationship between the dimensions.\\nLawton’s description of these relationships is not com-\\nplete and Brod et al. [1, 7], although they differentiate\\nbetween determinants and components, do not describe\\nthe relationships between the components of QOL.\\nConclusion\\nIn this article we present a hierarchical model for QOL\\nof patients with dementia that identifies relationships\\nbetween the dimensions in the model and can be used to\\ndevelop and study the effect of QOL interventions. The\\nstarting point for QOL in this model is psychological well-\\nbeing. Psychological well-being is considered to be the\\ncentral indicator for QOL of patients with dementia. Sec-\\nond, we advocate that QOL in dementia should not be\\nbased on domains that are influenced by dementia exclu-\\nsively. Our approach is based on the view that all life'),\n",
       " Document(metadata={'source': 'LAWTON\\\\QoL reference Lawton.pdf', 'page': 2}, page_content='Quality of Life Measures in Patients with\\nDementia\\nDement Geriatr Cogn Disord 2004;18:159–164 161\\nTable 1. Domains in QOL approaches in dementia, grouped by Lawton’s sectors\\nLawton’s sectors Domains\\nLawton [15, 30–32] Brod et al. [1, 7] Rabins et al. [9] Volicer and Bloom [13]\\nPsychological well-being positive affect\\nnegative affect\\nfeelings and mood\\nBehavioral competence health\\nfunctional health\\ncognition\\ntime use\\nsocial behavior\\ninteraction capacity social interaction\\nawareness of self\\nmedical issues\\npsychiatric symptoms\\nmeaningful activities\\nObjective environment response to surroundings\\nPerceived QOL sense of aesthetics\\nfeelings of belonging\\nenjoyment of activities\\nPersonal characteristics1 self-esteem\\n1 Added to Lawton’s sectors.\\nlater to older people with dementia. He defined QOL as\\nthe ‘multidimensional evaluation, by both intra-personal'),\n",
       " Document(metadata={'source': 'LAWTON\\\\QoL reference Lawton.pdf', 'page': 4}, page_content='oneself may well be important for QOL for one individu-\\nal, but less so or even not important for the other.\\nAccording to figure1, QOL can be measured at three\\nlevels. Although the relative importance of the domains\\nmay vary across individuals, it is assumed that, for all\\npatients with dementia, a number of these are important,\\nand contribute to psychological well-being.\\nWhat Our Model Adds\\nThe relationships between traditional clinical variables\\nof dementia and health status measures has not been con-\\nceptualized in much of the research done to date on\\ndementia. Our model facilitates the understanding of\\nthese associations, essentially based on the dimensions\\npresented by Lawton. This model should be useful in the\\nformulation of strategies to improve QOL in dementia.\\nChanges in the disease process (e.g. progression of demen-\\ntia) would be reflected in changes on dimensions and'),\n",
       " Document(metadata={'source': 'LAWTON\\\\QoL reference Lawton.pdf', 'page': 3}, page_content='(‘psychological well-being’) (fig.1).\\nFigure 1 presents a hierarchical model for QOL in\\ndementia that includes the interrelation between dimen-\\nsions. It addresses all aspects of life of a dementia patient,\\nalso those not affected by dementia. Thus, our approach is\\ndisease-specific, but not in that regard that all dimensions\\nof the model are influenced by the disease. In the model,\\nthe causal pathways that link different types of outcomes\\nto each other are identified. The choice of the dimensions\\nand their domains is based on the aforementioned re-\\nsearch. Until the model is empirically tested to identify\\nkey concepts, we rely on the domains suggested by the\\nfocus groups in the studies of Brod et al. [1, 7] and Rabins\\net al. [9]. In addition to the domains that are related to\\ndementia, ‘environment’ and the (non-dementia-related)'),\n",
       " Document(metadata={'source': 'LAWTON\\\\QoL reference Lawton.pdf', 'page': 4}, page_content='Quality of Life Measures in Patients with\\nDementia\\nDement Geriatr Cogn Disord 2004;18:159–164 163\\nFig. 1. Hierarchic relationships between\\nQOL dimensions in dementia.\\npared to Lawton’s field ‘domain-specific perceived QOL’.\\nAlso the evaluation of the domains is influenced by per-\\nsonal factors and environment. At the highest level in the\\nmodel ‘psychological well-being’ is located – the central\\noutcome measure – which can be described as the subjec-\\ntive evaluation of life in general, as a result of the appre-\\nciation of the various life domains. This means that the\\nsubjective evaluation of the various relevant (life) do-\\nmains determines psychological well-being in general. For\\neach individual the various domains will have their indi-\\nvidual contribution to psychological well-being. For in-\\nstance, loss of ADL functions like dressing and washing')]"
      ]
     },
     "metadata": {},
     "output_type": "display_data"
    }
   ],
   "source": [
    "display(relevant_docs)"
   ]
  }
 ],
 "metadata": {
  "kernelspec": {
   "display_name": "Python 3",
   "language": "python",
   "name": "python3"
  },
  "language_info": {
   "codemirror_mode": {
    "name": "ipython",
    "version": 3
   },
   "file_extension": ".py",
   "mimetype": "text/x-python",
   "name": "python",
   "nbconvert_exporter": "python",
   "pygments_lexer": "ipython3",
   "version": "3.12.7"
  }
 },
 "nbformat": 4,
 "nbformat_minor": 5
}
