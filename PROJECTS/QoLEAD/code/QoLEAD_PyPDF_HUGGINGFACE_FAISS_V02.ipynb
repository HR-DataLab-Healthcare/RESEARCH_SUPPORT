{
 "cells": [
  {
   "cell_type": "code",
   "execution_count": 1,
   "id": "a4f5388a-a1b8-4c1f-aa1e-966250e48849",
   "metadata": {},
   "outputs": [],
   "source": [
    "## !pip install -U ipykernel jupyter ipywidgets numpy langchain_community pip install\n",
    "## !pip install -U sentence_transformers numpy pandas unstructured openpyxl shutup PyPDF2\n",
    "\n",
    "### Importing general Libraries\n",
    "import os\n",
    "import warnings\n",
    "warnings.filterwarnings(\"ignore\", category=FutureWarning)\n",
    "import shutup; shutup.please()\n",
    "\n",
    "import pandas as pd\n",
    "import numpy as np\n",
    "import PyPDF2\n",
    "\n"
   ]
  },
  {
   "cell_type": "code",
   "execution_count": 2,
   "id": "fc88d334",
   "metadata": {},
   "outputs": [],
   "source": [
    "# store the pdfS FILES in a specific map\n",
    "\n",
    "map= \"LAWTON\"\n",
    "os.makedirs(map, exist_ok=True)"
   ]
  },
  {
   "cell_type": "code",
   "execution_count": 3,
   "id": "221cca7e",
   "metadata": {},
   "outputs": [
    {
     "data": {
      "text/plain": [
       "Document(metadata={'source': 'LAWTON\\\\QoL reference Lawton.pdf', 'page': 0}, page_content='Original Research Article\\nDement Geriatr Cogn Disord 2004;18:159–164\\nDOI: 10.1159/000079196\\nA Model for Quality of Life Measures in\\nPatients with Dementia:\\nLawton’s Next Step\\nC. Jonkera,b D.L. Gerritsenb P.R. Bosboomc J.T. Van der Steenb\\naDepartment of Psychiatry and bInstitute for Research in Extramural Medicine, VU University Medical Center, and\\ncDepartment of Clinical Neuropsychology, VU University, Amsterdam, The Netherlands\\nAccepted: January 22, 2004\\nPublished online: June 21, 2004\\nProf. Dr. C. Jonker, Behavioral Neurologist\\nDepartment of Psychiatry and EMGO Institute\\nVU University Medical Center, Van der Boechorststraat 7\\nNL–1081 BT Amsterdam (The Netherlands)\\nTel. +31 20 4446770, Fax +31 20 4446775, E-Mail c.jonker.emgo@med.vu.nl\\nABC\\nFax +41 61 306 12 34\\nE-Mail karger@karger.ch\\nwww.karger.com\\n© 2004 S. Karger AG, Basel\\n1420–8008/04/0182–0159$21.00/0\\nAccessible online at:')"
      ]
     },
     "execution_count": 3,
     "metadata": {},
     "output_type": "execute_result"
    }
   ],
   "source": [
    "from langchain_community.document_loaders import PyPDFLoader\n",
    "from langchain_community.document_loaders import PyPDFDirectoryLoader\n",
    "from langchain.text_splitter import RecursiveCharacterTextSplitter\n",
    "\n",
    "# Load pdf files in the local directory\n",
    "loader = PyPDFDirectoryLoader(\"./LAWTON\")\n",
    "\n",
    "docs_before_split = loader.load()\n",
    "text_splitter = RecursiveCharacterTextSplitter(\n",
    "    chunk_size = 900,\n",
    "    chunk_overlap  = 50,\n",
    ")\n",
    "docs_after_split = text_splitter.split_documents(docs_before_split)\n",
    "\n",
    "docs_after_split[0]"
   ]
  },
  {
   "cell_type": "markdown",
   "id": "5d17ab7d-6517-4caf-a1c2-44dd092f3252",
   "metadata": {
    "vscode": {
     "languageId": "html"
    }
   },
   "source": [
    "### Split documents to smaller chunks\n",
    "\n",
    "Large enough to contain enough information to answer aquestion.\n",
    "\n",
    "Small enough to fit into the LLM prompt: Mistral-7B-v0.1 input tokens limit  4960 tokens.\n",
    "\n",
    "Small enough to fit into the embeddings model: BAAI/bge-small-en-vI.\n",
    "Input tokens embedder must be limited to 512 tokens.\n",
    "Roughly 2000 characters. Note: 1 to approximately 4 characters.\n",
    "\n",
    "Here we split documents to chunks smaller than 700 characters with an overlap of 50 characters."
   ]
  },
  {
   "cell_type": "code",
   "execution_count": 4,
   "id": "d537f227-4249-4370-9caa-c9f0076c9621",
   "metadata": {},
   "outputs": [
    {
     "name": "stdout",
     "output_type": "stream",
     "text": [
      "Before split, there was/were 6 document(s) loaded, with average characters equal to 4561.\n",
      "After split, there were 36 documents (chunks), with average characters equal to 767 (average chunk length).\n"
     ]
    }
   ],
   "source": [
    "avg_doc_length = lambda docs: sum([len(doc.page_content) for doc in docs])//len(docs)\n",
    "avg_char_before_split = avg_doc_length(docs_before_split)\n",
    "avg_char_after_split = avg_doc_length(docs_after_split)\n",
    "\n",
    "print(f'Before split, there was/were {len(docs_before_split)} document(s) loaded, with average characters equal to {avg_char_before_split}.')\n",
    "print(f'After split, there were {len(docs_after_split)} documents (chunks), with average characters equal to {avg_char_after_split} (average chunk length).')"
   ]
  },
  {
   "cell_type": "code",
   "execution_count": 5,
   "id": "da8e4daa-2263-43d1-a12b-5590d895ff12",
   "metadata": {},
   "outputs": [
    {
     "data": {
      "text/plain": [
       "Document(metadata={'source': 'LAWTON\\\\QoL reference Lawton.pdf', 'page': 0}, page_content='Original Research Article\\nDement Geriatr Cogn Disord 2004;18:159–164\\nDOI: 10.1159/000079196\\nA Model for Quality of Life Measures in\\nPatients with Dementia:\\nLawton’s Next Step\\nC. Jonkera,b D.L. Gerritsenb P.R. Bosboomc J.T. Van der Steenb\\naDepartment of Psychiatry and bInstitute for Research in Extramural Medicine, VU University Medical Center, and\\ncDepartment of Clinical Neuropsychology, VU University, Amsterdam, The Netherlands\\nAccepted: January 22, 2004\\nPublished online: June 21, 2004\\nProf. Dr. C. Jonker, Behavioral Neurologist\\nDepartment of Psychiatry and EMGO Institute\\nVU University Medical Center, Van der Boechorststraat 7\\nNL–1081 BT Amsterdam (The Netherlands)\\nTel. +31 20 4446770, Fax +31 20 4446775, E-Mail c.jonker.emgo@med.vu.nl\\nABC\\nFax +41 61 306 12 34\\nE-Mail karger@karger.ch\\nwww.karger.com\\n© 2004 S. Karger AG, Basel\\n1420–8008/04/0182–0159$21.00/0\\nAccessible online at:')"
      ]
     },
     "metadata": {},
     "output_type": "display_data"
    }
   ],
   "source": [
    "display(docs_after_split[0])"
   ]
  },
  {
   "cell_type": "markdown",
   "id": "976f477d",
   "metadata": {},
   "source": [
    "### Text Embeddings with Hugging Face models\n",
    "At the time of writing (nov 2024), there are 213 text embeddings models for English on the Massive Text Embedding Benchmark (MTEB) leaderboard\n",
    "\n",
    "https://huggingface.co/spaces/mteb/leaderboard\n",
    "\n",
    " For our project, we are using LangChain’s HuggingFaceBgeEmbeddings (BGE models on the Hugging Face.\n",
    "\n",
    "Aaccording to LangChain are “the best open-source embedding models”.\n",
    "\n",
    " Currently, **BAAI/bge-small-en-v1.5** model is the 26th on MTEB leaderboard with max tokens: 512 tokens, embedding dimensions: 384 and model size: 0.13GB\n",
    "\n",
    "To use, you should have the sentence_transformers python package installed. To use Nomic, make sure the version of sentence_transformers >= 2.3.0.\n",
    "\n",
    "https://api.python.langchain.com/en/latest/embeddings/langchain_community.embeddings.huggingface.HuggingFaceBgeEmbeddings.html#langchain-community-embeddings-huggingface-huggingfacebgeembeddings."
   ]
  },
  {
   "cell_type": "code",
   "execution_count": 44,
   "id": "795c523d",
   "metadata": {},
   "outputs": [
    {
     "data": {
      "text/plain": [
       "True"
      ]
     },
     "metadata": {},
     "output_type": "display_data"
    },
    {
     "data": {
      "application/vnd.jupyter.widget-view+json": {
       "model_id": "7f0c1b98c5b34eb2934bac1be0803550",
       "version_major": 2,
       "version_minor": 0
      },
      "text/plain": [
       "modules.json:   0%|          | 0.00/229 [00:00<?, ?B/s]"
      ]
     },
     "metadata": {},
     "output_type": "display_data"
    },
    {
     "data": {
      "application/vnd.jupyter.widget-view+json": {
       "model_id": "8985d9e9348746b39be472b7c7db63f3",
       "version_major": 2,
       "version_minor": 0
      },
      "text/plain": [
       "README.md:   0%|          | 0.00/71.8k [00:00<?, ?B/s]"
      ]
     },
     "metadata": {},
     "output_type": "display_data"
    },
    {
     "data": {
      "application/vnd.jupyter.widget-view+json": {
       "model_id": "c40fad496a924a7f98e2fd394094b800",
       "version_major": 2,
       "version_minor": 0
      },
      "text/plain": [
       "sentence_bert_config.json:   0%|          | 0.00/54.0 [00:00<?, ?B/s]"
      ]
     },
     "metadata": {},
     "output_type": "display_data"
    },
    {
     "data": {
      "application/vnd.jupyter.widget-view+json": {
       "model_id": "7a64f961fbda46ce8bd54e4e5a2429a2",
       "version_major": 2,
       "version_minor": 0
      },
      "text/plain": [
       "config.json:   0%|          | 0.00/1.35k [00:00<?, ?B/s]"
      ]
     },
     "metadata": {},
     "output_type": "display_data"
    },
    {
     "data": {
      "application/vnd.jupyter.widget-view+json": {
       "model_id": "e95e4d3b5c3748da8453e08bd384a989",
       "version_major": 2,
       "version_minor": 0
      },
      "text/plain": [
       "configuration.py:   0%|          | 0.00/7.13k [00:00<?, ?B/s]"
      ]
     },
     "metadata": {},
     "output_type": "display_data"
    },
    {
     "name": "stderr",
     "output_type": "stream",
     "text": [
      "A new version of the following files was downloaded from https://huggingface.co/Alibaba-NLP/new-impl:\n",
      "- configuration.py\n",
      ". Make sure to double-check they do not contain any added malicious code. To avoid downloading new versions of the code file, you can pin a revision.\n"
     ]
    },
    {
     "data": {
      "application/vnd.jupyter.widget-view+json": {
       "model_id": "44dabaffd3874eadb0722b4cff1104f5",
       "version_major": 2,
       "version_minor": 0
      },
      "text/plain": [
       "modeling.py:   0%|          | 0.00/59.0k [00:00<?, ?B/s]"
      ]
     },
     "metadata": {},
     "output_type": "display_data"
    },
    {
     "name": "stderr",
     "output_type": "stream",
     "text": [
      "A new version of the following files was downloaded from https://huggingface.co/Alibaba-NLP/new-impl:\n",
      "- modeling.py\n",
      ". Make sure to double-check they do not contain any added malicious code. To avoid downloading new versions of the code file, you can pin a revision.\n"
     ]
    },
    {
     "data": {
      "application/vnd.jupyter.widget-view+json": {
       "model_id": "908a70dff54d4cf287d6d8c758af67d3",
       "version_major": 2,
       "version_minor": 0
      },
      "text/plain": [
       "model.safetensors:   0%|          | 0.00/1.74G [00:00<?, ?B/s]"
      ]
     },
     "metadata": {},
     "output_type": "display_data"
    },
    {
     "data": {
      "application/vnd.jupyter.widget-view+json": {
       "model_id": "2c24ef41037d4c2a9cde3fea5a862c76",
       "version_major": 2,
       "version_minor": 0
      },
      "text/plain": [
       "tokenizer_config.json:   0%|          | 0.00/1.38k [00:00<?, ?B/s]"
      ]
     },
     "metadata": {},
     "output_type": "display_data"
    },
    {
     "data": {
      "application/vnd.jupyter.widget-view+json": {
       "model_id": "c66d7a49ac4b4f40874f82865b6bafdc",
       "version_major": 2,
       "version_minor": 0
      },
      "text/plain": [
       "vocab.txt:   0%|          | 0.00/232k [00:00<?, ?B/s]"
      ]
     },
     "metadata": {},
     "output_type": "display_data"
    },
    {
     "data": {
      "application/vnd.jupyter.widget-view+json": {
       "model_id": "04d889dc64524f55a2fa12ead108b1b3",
       "version_major": 2,
       "version_minor": 0
      },
      "text/plain": [
       "tokenizer.json:   0%|          | 0.00/712k [00:00<?, ?B/s]"
      ]
     },
     "metadata": {},
     "output_type": "display_data"
    },
    {
     "data": {
      "application/vnd.jupyter.widget-view+json": {
       "model_id": "5fd0cb296744417c9b610fd0c11745cb",
       "version_major": 2,
       "version_minor": 0
      },
      "text/plain": [
       "special_tokens_map.json:   0%|          | 0.00/695 [00:00<?, ?B/s]"
      ]
     },
     "metadata": {},
     "output_type": "display_data"
    },
    {
     "data": {
      "application/vnd.jupyter.widget-view+json": {
       "model_id": "e01a1332834046ddb3432494967b5d9a",
       "version_major": 2,
       "version_minor": 0
      },
      "text/plain": [
       "1_Pooling/config.json:   0%|          | 0.00/297 [00:00<?, ?B/s]"
      ]
     },
     "metadata": {},
     "output_type": "display_data"
    },
    {
     "data": {
      "text/plain": [
       "True"
      ]
     },
     "metadata": {},
     "output_type": "display_data"
    }
   ],
   "source": [
    "import torch\n",
    "from torch import cuda, bfloat16\n",
    "from transformers import AutoTokenizer, AutoModel\n",
    "\n",
    "device = f'cuda:{cuda.current_device()}' if cuda.is_available() else 'cpu'\n",
    "display(torch.cuda.is_available())\n",
    "\n",
    "### ===> takes 40-60 seconds to complete the process\n",
    "\n",
    "from langchain_community.embeddings import HuggingFaceBgeEmbeddings\n",
    "### EMBEDDING models\n",
    "# https://python.langchain.com/docs/integrations/text_embedding/\n",
    "\n",
    "model_name = \"BAAI/bge-large-en-v1.5\"\n",
    "# model_name = \"BAAI/bge-m3\"\n",
    "#model_name = \"BAAI/bge-small-en-v1.5\"\n",
    "#model_name =\"jinaai/jina-embeddings-v3\"\n",
    "model_name = \"Alibaba-NLP/gte-large-en-v1.5\"\n",
    "\n",
    "\n",
    "\n",
    "model_kwargs = {'device': 'cuda', # use cuda\" when GPU is available\n",
    "                'trust_remote_code':True\n",
    "                } \n",
    "\n",
    "encode_kwargs = {'normalize_embeddings': True,\n",
    "                 'truncate':True # truncate the input to the maximum length the model can handle\n",
    "                 }  \n",
    "\n",
    "### Create the embeddings object\n",
    "huggingface_embeddings = HuggingFaceBgeEmbeddings(\n",
    "                                                    model_name=model_name,\n",
    "                                                    model_kwargs=model_kwargs,\n",
    "                                                    encode_kwargs=encode_kwargs,\n",
    ")\n",
    "\n",
    "\n",
    "display(torch.cuda.is_available())"
   ]
  },
  {
   "cell_type": "markdown",
   "id": "7572d707",
   "metadata": {},
   "source": [
    "### Retrieval System for vector embeddings"
   ]
  },
  {
   "cell_type": "code",
   "execution_count": 45,
   "id": "18e9bf4f",
   "metadata": {},
   "outputs": [
    {
     "name": "stdout",
     "output_type": "stream",
     "text": [
      "Sample embedding of a document chunk:  [ 0.00366538 -0.02224471 -0.02653843 ...  0.0268951  -0.00881654\n",
      " -0.02183297]\n",
      "Size of the embedding:  (1024,)\n"
     ]
    }
   ],
   "source": [
    "import numpy as np\n",
    "\n",
    "## provide a sample of how the embedding\n",
    "\n",
    "sample_embedding = np.array(huggingface_embeddings.embed_query(docs_after_split[0].page_content))\n",
    "print(\"Sample embedding of a document chunk: \", sample_embedding)\n",
    "print(\"Size of the embedding: \", sample_embedding.shape)"
   ]
  },
  {
   "cell_type": "code",
   "execution_count": 46,
   "id": "750386e5",
   "metadata": {},
   "outputs": [],
   "source": [
    "## Create the vector store from the splitted  data and use the selected embedding model\n",
    "\n",
    "from langchain_community.vectorstores import FAISS\n",
    "vectorstore = FAISS.from_documents(docs_after_split, huggingface_embeddings)"
   ]
  },
  {
   "cell_type": "code",
   "execution_count": 47,
   "id": "e829ba2a-7ac4-48c0-acfb-d1263c4a3398",
   "metadata": {},
   "outputs": [
    {
     "data": {
      "text/plain": [
       "HFCacheInfo(size_on_disk=36192463831, repos=frozenset({CachedRepoInfo(repo_id='mistralai/Mistral-7B-v0.1', repo_type='model', repo_path=WindowsPath('H:/LLM_CACHE/huggingface/hub/models--mistralai--Mistral-7B-v0.1'), size_on_disk=14485813893, nb_files=9, revisions=frozenset({CachedRevisionInfo(commit_hash='7231864981174d9bee8c7687c24c8344414eae6b', snapshot_path=WindowsPath('H:/LLM_CACHE/huggingface/hub/models--mistralai--Mistral-7B-v0.1/snapshots/7231864981174d9bee8c7687c24c8344414eae6b'), size_on_disk=14485813893, files=frozenset({CachedFileInfo(file_name='special_tokens_map.json', file_path=WindowsPath('H:/LLM_CACHE/huggingface/hub/models--mistralai--Mistral-7B-v0.1/snapshots/7231864981174d9bee8c7687c24c8344414eae6b/special_tokens_map.json'), blob_path=WindowsPath('H:/LLM_CACHE/huggingface/hub/models--mistralai--Mistral-7B-v0.1/snapshots/7231864981174d9bee8c7687c24c8344414eae6b/special_tokens_map.json'), size_on_disk=414, blob_last_accessed=1731868139.5113726, blob_last_modified=1731868139.5113726), CachedFileInfo(file_name='config.json', file_path=WindowsPath('H:/LLM_CACHE/huggingface/hub/models--mistralai--Mistral-7B-v0.1/snapshots/7231864981174d9bee8c7687c24c8344414eae6b/config.json'), blob_path=WindowsPath('H:/LLM_CACHE/huggingface/hub/models--mistralai--Mistral-7B-v0.1/snapshots/7231864981174d9bee8c7687c24c8344414eae6b/config.json'), size_on_disk=571, blob_last_accessed=1731871420.714258, blob_last_modified=1731867820.564622), CachedFileInfo(file_name='model-00002-of-00002.safetensors', file_path=WindowsPath('H:/LLM_CACHE/huggingface/hub/models--mistralai--Mistral-7B-v0.1/snapshots/7231864981174d9bee8c7687c24c8344414eae6b/model-00002-of-00002.safetensors'), blob_path=WindowsPath('H:/LLM_CACHE/huggingface/hub/models--mistralai--Mistral-7B-v0.1/snapshots/7231864981174d9bee8c7687c24c8344414eae6b/model-00002-of-00002.safetensors'), size_on_disk=4540516344, blob_last_accessed=1731871431.4702952, blob_last_modified=1731868123.4528618), CachedFileInfo(file_name='tokenizer.model', file_path=WindowsPath('H:/LLM_CACHE/huggingface/hub/models--mistralai--Mistral-7B-v0.1/snapshots/7231864981174d9bee8c7687c24c8344414eae6b/tokenizer.model'), blob_path=WindowsPath('H:/LLM_CACHE/huggingface/hub/models--mistralai--Mistral-7B-v0.1/snapshots/7231864981174d9bee8c7687c24c8344414eae6b/tokenizer.model'), size_on_disk=493443, blob_last_accessed=1731868138.4377525, blob_last_modified=1731868138.4377525), CachedFileInfo(file_name='model.safetensors.index.json', file_path=WindowsPath('H:/LLM_CACHE/huggingface/hub/models--mistralai--Mistral-7B-v0.1/snapshots/7231864981174d9bee8c7687c24c8344414eae6b/model.safetensors.index.json'), blob_path=WindowsPath('H:/LLM_CACHE/huggingface/hub/models--mistralai--Mistral-7B-v0.1/snapshots/7231864981174d9bee8c7687c24c8344414eae6b/model.safetensors.index.json'), size_on_disk=25125, blob_last_accessed=1731871420.735528, blob_last_modified=1731867821.2329204), CachedFileInfo(file_name='tokenizer.json', file_path=WindowsPath('H:/LLM_CACHE/huggingface/hub/models--mistralai--Mistral-7B-v0.1/snapshots/7231864981174d9bee8c7687c24c8344414eae6b/tokenizer.json'), blob_path=WindowsPath('H:/LLM_CACHE/huggingface/hub/models--mistralai--Mistral-7B-v0.1/snapshots/7231864981174d9bee8c7687c24c8344414eae6b/tokenizer.json'), size_on_disk=1795188, blob_last_accessed=1731871420.521342, blob_last_modified=1731868139.1257741), CachedFileInfo(file_name='tokenizer_config.json', file_path=WindowsPath('H:/LLM_CACHE/huggingface/hub/models--mistralai--Mistral-7B-v0.1/snapshots/7231864981174d9bee8c7687c24c8344414eae6b/tokenizer_config.json'), blob_path=WindowsPath('H:/LLM_CACHE/huggingface/hub/models--mistralai--Mistral-7B-v0.1/snapshots/7231864981174d9bee8c7687c24c8344414eae6b/tokenizer_config.json'), size_on_disk=996, blob_last_accessed=1731871420.5193417, blob_last_modified=1731868138.2500858), CachedFileInfo(file_name='model-00001-of-00002.safetensors', file_path=WindowsPath('H:/LLM_CACHE/huggingface/hub/models--mistralai--Mistral-7B-v0.1/snapshots/7231864981174d9bee8c7687c24c8344414eae6b/model-00001-of-00002.safetensors'), blob_path=WindowsPath('H:/LLM_CACHE/huggingface/hub/models--mistralai--Mistral-7B-v0.1/snapshots/7231864981174d9bee8c7687c24c8344414eae6b/model-00001-of-00002.safetensors'), size_on_disk=9942981696, blob_last_accessed=1731871420.894819, blob_last_modified=1731868082.3890052), CachedFileInfo(file_name='generation_config.json', file_path=WindowsPath('H:/LLM_CACHE/huggingface/hub/models--mistralai--Mistral-7B-v0.1/snapshots/7231864981174d9bee8c7687c24c8344414eae6b/generation_config.json'), blob_path=WindowsPath('H:/LLM_CACHE/huggingface/hub/models--mistralai--Mistral-7B-v0.1/snapshots/7231864981174d9bee8c7687c24c8344414eae6b/generation_config.json'), size_on_disk=116, blob_last_accessed=1731871436.501342, blob_last_modified=1731868137.9686358)}), refs=frozenset({'main'}), last_modified=1731868139.5113726)}), last_accessed=1731871436.501342, last_modified=1731868139.5113726), CachedRepoInfo(repo_id='BAAI/bge-m3', repo_type='model', repo_path=WindowsPath('H:/LLM_CACHE/huggingface/hub/models--BAAI--bge-m3'), size_on_disk=2293331623, nb_files=11, revisions=frozenset({CachedRevisionInfo(commit_hash='5617a9f61b028005a4858fdac845db406aefb181', snapshot_path=WindowsPath('H:/LLM_CACHE/huggingface/hub/models--BAAI--bge-m3/snapshots/5617a9f61b028005a4858fdac845db406aefb181'), size_on_disk=2293331623, files=frozenset({CachedFileInfo(file_name='README.md', file_path=WindowsPath('H:/LLM_CACHE/huggingface/hub/models--BAAI--bge-m3/snapshots/5617a9f61b028005a4858fdac845db406aefb181/README.md'), blob_path=WindowsPath('H:/LLM_CACHE/huggingface/hub/models--BAAI--bge-m3/snapshots/5617a9f61b028005a4858fdac845db406aefb181/README.md'), size_on_disk=15822, blob_last_accessed=1731940819.0301528, blob_last_modified=1731940819.0181463), CachedFileInfo(file_name='tokenizer.json', file_path=WindowsPath('H:/LLM_CACHE/huggingface/hub/models--BAAI--bge-m3/snapshots/5617a9f61b028005a4858fdac845db406aefb181/tokenizer.json'), blob_path=WindowsPath('H:/LLM_CACHE/huggingface/hub/models--BAAI--bge-m3/snapshots/5617a9f61b028005a4858fdac845db406aefb181/tokenizer.json'), size_on_disk=17098108, blob_last_accessed=1731940901.1320696, blob_last_modified=1731940900.4219594), CachedFileInfo(file_name='pytorch_model.bin', file_path=WindowsPath('H:/LLM_CACHE/huggingface/hub/models--BAAI--bge-m3/snapshots/5617a9f61b028005a4858fdac845db406aefb181/pytorch_model.bin'), blob_path=WindowsPath('H:/LLM_CACHE/huggingface/hub/models--BAAI--bge-m3/snapshots/5617a9f61b028005a4858fdac845db406aefb181/pytorch_model.bin'), size_on_disk=2271145830, blob_last_accessed=1731940898.8417654, blob_last_modified=1731940898.3193245), CachedFileInfo(file_name='config.json', file_path=WindowsPath('H:/LLM_CACHE/huggingface/hub/models--BAAI--bge-m3/snapshots/5617a9f61b028005a4858fdac845db406aefb181/1_Pooling/config.json'), blob_path=WindowsPath('H:/LLM_CACHE/huggingface/hub/models--BAAI--bge-m3/snapshots/5617a9f61b028005a4858fdac845db406aefb181/1_Pooling/config.json'), size_on_disk=191, blob_last_accessed=1731940902.4350562, blob_last_modified=1731940902.4230561), CachedFileInfo(file_name='config_sentence_transformers.json', file_path=WindowsPath('H:/LLM_CACHE/huggingface/hub/models--BAAI--bge-m3/snapshots/5617a9f61b028005a4858fdac845db406aefb181/config_sentence_transformers.json'), blob_path=WindowsPath('H:/LLM_CACHE/huggingface/hub/models--BAAI--bge-m3/snapshots/5617a9f61b028005a4858fdac845db406aefb181/config_sentence_transformers.json'), size_on_disk=123, blob_last_accessed=1731940818.7742302, blob_last_modified=1731940818.7626996), CachedFileInfo(file_name='tokenizer_config.json', file_path=WindowsPath('H:/LLM_CACHE/huggingface/hub/models--BAAI--bge-m3/snapshots/5617a9f61b028005a4858fdac845db406aefb181/tokenizer_config.json'), blob_path=WindowsPath('H:/LLM_CACHE/huggingface/hub/models--BAAI--bge-m3/snapshots/5617a9f61b028005a4858fdac845db406aefb181/tokenizer_config.json'), size_on_disk=444, blob_last_accessed=1731940900.808658, blob_last_modified=1731940899.283775), CachedFileInfo(file_name='modules.json', file_path=WindowsPath('H:/LLM_CACHE/huggingface/hub/models--BAAI--bge-m3/snapshots/5617a9f61b028005a4858fdac845db406aefb181/modules.json'), blob_path=WindowsPath('H:/LLM_CACHE/huggingface/hub/models--BAAI--bge-m3/snapshots/5617a9f61b028005a4858fdac845db406aefb181/modules.json'), size_on_disk=349, blob_last_accessed=1731940819.1427557, blob_last_modified=1731940818.493308), CachedFileInfo(file_name='sentence_bert_config.json', file_path=WindowsPath('H:/LLM_CACHE/huggingface/hub/models--BAAI--bge-m3/snapshots/5617a9f61b028005a4858fdac845db406aefb181/sentence_bert_config.json'), blob_path=WindowsPath('H:/LLM_CACHE/huggingface/hub/models--BAAI--bge-m3/snapshots/5617a9f61b028005a4858fdac845db406aefb181/sentence_bert_config.json'), size_on_disk=54, blob_last_accessed=1731940819.4122012, blob_last_modified=1731940819.3982012), CachedFileInfo(file_name='special_tokens_map.json', file_path=WindowsPath('H:/LLM_CACHE/huggingface/hub/models--BAAI--bge-m3/snapshots/5617a9f61b028005a4858fdac845db406aefb181/special_tokens_map.json'), blob_path=WindowsPath('H:/LLM_CACHE/huggingface/hub/models--BAAI--bge-m3/snapshots/5617a9f61b028005a4858fdac845db406aefb181/special_tokens_map.json'), size_on_disk=964, blob_last_accessed=1731940900.8096583, blob_last_modified=1731940900.798633), CachedFileInfo(file_name='config.json', file_path=WindowsPath('H:/LLM_CACHE/huggingface/hub/models--BAAI--bge-m3/snapshots/5617a9f61b028005a4858fdac845db406aefb181/config.json'), blob_path=WindowsPath('H:/LLM_CACHE/huggingface/hub/models--BAAI--bge-m3/snapshots/5617a9f61b028005a4858fdac845db406aefb181/config.json'), size_on_disk=687, blob_last_accessed=1731940819.6607862, blob_last_modified=1731940819.649705), CachedFileInfo(file_name='sentencepiece.bpe.model', file_path=WindowsPath('H:/LLM_CACHE/huggingface/hub/models--BAAI--bge-m3/snapshots/5617a9f61b028005a4858fdac845db406aefb181/sentencepiece.bpe.model'), blob_path=WindowsPath('H:/LLM_CACHE/huggingface/hub/models--BAAI--bge-m3/snapshots/5617a9f61b028005a4858fdac845db406aefb181/sentencepiece.bpe.model'), size_on_disk=5069051, blob_last_accessed=1731940899.6904373, blob_last_modified=1731940899.6904373)}), refs=frozenset({'main'}), last_modified=1731940902.4230561)}), last_accessed=1731940902.4350562, last_modified=1731940902.4230561), CachedRepoInfo(repo_id='jinaai/xlm-roberta-flash-implementation', repo_type='model', repo_path=WindowsPath('H:/LLM_CACHE/huggingface/hub/models--jinaai--xlm-roberta-flash-implementation'), size_on_disk=173664, nb_files=10, revisions=frozenset({CachedRevisionInfo(commit_hash='f221b0a29d7c2d0bfde4fd08a1bdb2bb5816acbc', snapshot_path=WindowsPath('H:/LLM_CACHE/huggingface/hub/models--jinaai--xlm-roberta-flash-implementation/snapshots/f221b0a29d7c2d0bfde4fd08a1bdb2bb5816acbc'), size_on_disk=173664, files=frozenset({CachedFileInfo(file_name='mlp.py', file_path=WindowsPath('H:/LLM_CACHE/huggingface/hub/models--jinaai--xlm-roberta-flash-implementation/snapshots/f221b0a29d7c2d0bfde4fd08a1bdb2bb5816acbc/mlp.py'), blob_path=WindowsPath('H:/LLM_CACHE/huggingface/hub/models--jinaai--xlm-roberta-flash-implementation/snapshots/f221b0a29d7c2d0bfde4fd08a1bdb2bb5816acbc/mlp.py'), size_on_disk=7619, blob_last_accessed=1731942638.5829391, blob_last_modified=1731942638.562903), CachedFileInfo(file_name='modeling_lora.py', file_path=WindowsPath('H:/LLM_CACHE/huggingface/hub/models--jinaai--xlm-roberta-flash-implementation/snapshots/f221b0a29d7c2d0bfde4fd08a1bdb2bb5816acbc/modeling_lora.py'), blob_path=WindowsPath('H:/LLM_CACHE/huggingface/hub/models--jinaai--xlm-roberta-flash-implementation/snapshots/f221b0a29d7c2d0bfde4fd08a1bdb2bb5816acbc/modeling_lora.py'), size_on_disk=15185, blob_last_accessed=1731942637.391193, blob_last_modified=1731942637.3709745), CachedFileInfo(file_name='embedding.py', file_path=WindowsPath('H:/LLM_CACHE/huggingface/hub/models--jinaai--xlm-roberta-flash-implementation/snapshots/f221b0a29d7c2d0bfde4fd08a1bdb2bb5816acbc/embedding.py'), blob_path=WindowsPath('H:/LLM_CACHE/huggingface/hub/models--jinaai--xlm-roberta-flash-implementation/snapshots/f221b0a29d7c2d0bfde4fd08a1bdb2bb5816acbc/embedding.py'), size_on_disk=3875, blob_last_accessed=1731942639.729968, blob_last_modified=1731942639.7123363), CachedFileInfo(file_name='rotary.py', file_path=WindowsPath('H:/LLM_CACHE/huggingface/hub/models--jinaai--xlm-roberta-flash-implementation/snapshots/f221b0a29d7c2d0bfde4fd08a1bdb2bb5816acbc/rotary.py'), blob_path=WindowsPath('H:/LLM_CACHE/huggingface/hub/models--jinaai--xlm-roberta-flash-implementation/snapshots/f221b0a29d7c2d0bfde4fd08a1bdb2bb5816acbc/rotary.py'), size_on_disk=24526, blob_last_accessed=1731942638.2946353, blob_last_modified=1731942638.2697089), CachedFileInfo(file_name='configuration_xlm_roberta.py', file_path=WindowsPath('H:/LLM_CACHE/huggingface/hub/models--jinaai--xlm-roberta-flash-implementation/snapshots/f221b0a29d7c2d0bfde4fd08a1bdb2bb5816acbc/configuration_xlm_roberta.py'), blob_path=WindowsPath('H:/LLM_CACHE/huggingface/hub/models--jinaai--xlm-roberta-flash-implementation/snapshots/f221b0a29d7c2d0bfde4fd08a1bdb2bb5816acbc/configuration_xlm_roberta.py'), size_on_disk=6542, blob_last_accessed=1731942637.0066671, blob_last_modified=1731942636.9796486), CachedFileInfo(file_name='xlm_padding.py', file_path=WindowsPath('H:/LLM_CACHE/huggingface/hub/models--jinaai--xlm-roberta-flash-implementation/snapshots/f221b0a29d7c2d0bfde4fd08a1bdb2bb5816acbc/xlm_padding.py'), blob_path=WindowsPath('H:/LLM_CACHE/huggingface/hub/models--jinaai--xlm-roberta-flash-implementation/snapshots/f221b0a29d7c2d0bfde4fd08a1bdb2bb5816acbc/xlm_padding.py'), size_on_disk=10032, blob_last_accessed=1731942639.4474852, blob_last_modified=1731942639.4267268), CachedFileInfo(file_name='mha.py', file_path=WindowsPath('H:/LLM_CACHE/huggingface/hub/models--jinaai--xlm-roberta-flash-implementation/snapshots/f221b0a29d7c2d0bfde4fd08a1bdb2bb5816acbc/mha.py'), blob_path=WindowsPath('H:/LLM_CACHE/huggingface/hub/models--jinaai--xlm-roberta-flash-implementation/snapshots/f221b0a29d7c2d0bfde4fd08a1bdb2bb5816acbc/mha.py'), size_on_disk=34368, blob_last_accessed=1731942637.9848452, blob_last_modified=1731942637.930354), CachedFileInfo(file_name='modeling_xlm_roberta.py', file_path=WindowsPath('H:/LLM_CACHE/huggingface/hub/models--jinaai--xlm-roberta-flash-implementation/snapshots/f221b0a29d7c2d0bfde4fd08a1bdb2bb5816acbc/modeling_xlm_roberta.py'), blob_path=WindowsPath('H:/LLM_CACHE/huggingface/hub/models--jinaai--xlm-roberta-flash-implementation/snapshots/f221b0a29d7c2d0bfde4fd08a1bdb2bb5816acbc/modeling_xlm_roberta.py'), size_on_disk=49960, blob_last_accessed=1731942639.1782258, blob_last_modified=1731942639.1502948), CachedFileInfo(file_name='block.py', file_path=WindowsPath('H:/LLM_CACHE/huggingface/hub/models--jinaai--xlm-roberta-flash-implementation/snapshots/f221b0a29d7c2d0bfde4fd08a1bdb2bb5816acbc/block.py'), blob_path=WindowsPath('H:/LLM_CACHE/huggingface/hub/models--jinaai--xlm-roberta-flash-implementation/snapshots/f221b0a29d7c2d0bfde4fd08a1bdb2bb5816acbc/block.py'), size_on_disk=17796, blob_last_accessed=1731942637.6689167, blob_last_modified=1731942637.6438463), CachedFileInfo(file_name='stochastic_depth.py', file_path=WindowsPath('H:/LLM_CACHE/huggingface/hub/models--jinaai--xlm-roberta-flash-implementation/snapshots/f221b0a29d7c2d0bfde4fd08a1bdb2bb5816acbc/stochastic_depth.py'), blob_path=WindowsPath('H:/LLM_CACHE/huggingface/hub/models--jinaai--xlm-roberta-flash-implementation/snapshots/f221b0a29d7c2d0bfde4fd08a1bdb2bb5816acbc/stochastic_depth.py'), size_on_disk=3761, blob_last_accessed=1731942638.8568478, blob_last_modified=1731942638.841613)}), refs=frozenset({'main'}), last_modified=1731942639.7123363)}), last_accessed=1731942639.729968, last_modified=1731942639.7123363), CachedRepoInfo(repo_id='HuggingFaceH4/mistral-7b-anthropic', repo_type='model', repo_path=WindowsPath('H:/LLM_CACHE/huggingface/hub/models--HuggingFaceH4--mistral-7b-anthropic'), size_on_disk=24595, nb_files=2, revisions=frozenset({CachedRevisionInfo(commit_hash='5734eec58311d9bc284a51ad22eb1805f2b28a5d', snapshot_path=WindowsPath('H:/LLM_CACHE/huggingface/hub/models--HuggingFaceH4--mistral-7b-anthropic/snapshots/5734eec58311d9bc284a51ad22eb1805f2b28a5d'), size_on_disk=24595, files=frozenset({CachedFileInfo(file_name='config.json', file_path=WindowsPath('H:/LLM_CACHE/huggingface/hub/models--HuggingFaceH4--mistral-7b-anthropic/snapshots/5734eec58311d9bc284a51ad22eb1805f2b28a5d/config.json'), blob_path=WindowsPath('H:/LLM_CACHE/huggingface/hub/models--HuggingFaceH4--mistral-7b-anthropic/snapshots/5734eec58311d9bc284a51ad22eb1805f2b28a5d/config.json'), size_on_disk=645, blob_last_accessed=1731862729.2282898, blob_last_modified=1731862729.1931005), CachedFileInfo(file_name='model.safetensors.index.json', file_path=WindowsPath('H:/LLM_CACHE/huggingface/hub/models--HuggingFaceH4--mistral-7b-anthropic/snapshots/5734eec58311d9bc284a51ad22eb1805f2b28a5d/model.safetensors.index.json'), blob_path=WindowsPath('H:/LLM_CACHE/huggingface/hub/models--HuggingFaceH4--mistral-7b-anthropic/snapshots/5734eec58311d9bc284a51ad22eb1805f2b28a5d/model.safetensors.index.json'), size_on_disk=23950, blob_last_accessed=1731862729.606779, blob_last_modified=1731862729.596382)}), refs=frozenset({'main'}), last_modified=1731862729.596382)}), last_accessed=1731862729.606779, last_modified=1731862729.596382), CachedRepoInfo(repo_id='Alibaba-NLP/new-impl', repo_type='model', repo_path=WindowsPath('H:/LLM_CACHE/huggingface/hub/models--Alibaba-NLP--new-impl'), size_on_disk=66150, nb_files=2, revisions=frozenset({CachedRevisionInfo(commit_hash='40ced75c3017eb27626c9d4ea981bde21a2662f4', snapshot_path=WindowsPath('H:/LLM_CACHE/huggingface/hub/models--Alibaba-NLP--new-impl/snapshots/40ced75c3017eb27626c9d4ea981bde21a2662f4'), size_on_disk=66150, files=frozenset({CachedFileInfo(file_name='configuration.py', file_path=WindowsPath('H:/LLM_CACHE/huggingface/hub/models--Alibaba-NLP--new-impl/snapshots/40ced75c3017eb27626c9d4ea981bde21a2662f4/configuration.py'), blob_path=WindowsPath('H:/LLM_CACHE/huggingface/hub/models--Alibaba-NLP--new-impl/snapshots/40ced75c3017eb27626c9d4ea981bde21a2662f4/configuration.py'), size_on_disk=7127, blob_last_accessed=1731944506.5538137, blob_last_modified=1731944506.508859), CachedFileInfo(file_name='modeling.py', file_path=WindowsPath('H:/LLM_CACHE/huggingface/hub/models--Alibaba-NLP--new-impl/snapshots/40ced75c3017eb27626c9d4ea981bde21a2662f4/modeling.py'), blob_path=WindowsPath('H:/LLM_CACHE/huggingface/hub/models--Alibaba-NLP--new-impl/snapshots/40ced75c3017eb27626c9d4ea981bde21a2662f4/modeling.py'), size_on_disk=59023, blob_last_accessed=1731944506.9624138, blob_last_modified=1731944506.936081)}), refs=frozenset({'main'}), last_modified=1731944506.936081)}), last_accessed=1731944506.9624138, last_modified=1731944506.936081), CachedRepoInfo(repo_id='BAAI/bge-small-en-v1.5', repo_type='model', repo_path=WindowsPath('H:/LLM_CACHE/huggingface/hub/models--BAAI--bge-small-en-v1.5'), size_on_disk=134505940, nb_files=11, revisions=frozenset({CachedRevisionInfo(commit_hash='5c38ec7c405ec4b44b94cc5a9bb96e735b38267a', snapshot_path=WindowsPath('H:/LLM_CACHE/huggingface/hub/models--BAAI--bge-small-en-v1.5/snapshots/5c38ec7c405ec4b44b94cc5a9bb96e735b38267a'), size_on_disk=134505940, files=frozenset({CachedFileInfo(file_name='config.json', file_path=WindowsPath('H:/LLM_CACHE/huggingface/hub/models--BAAI--bge-small-en-v1.5/snapshots/5c38ec7c405ec4b44b94cc5a9bb96e735b38267a/config.json'), blob_path=WindowsPath('H:/LLM_CACHE/huggingface/hub/models--BAAI--bge-small-en-v1.5/snapshots/5c38ec7c405ec4b44b94cc5a9bb96e735b38267a/config.json'), size_on_disk=743, blob_last_accessed=1731942859.313862, blob_last_modified=1731942843.4036024), CachedFileInfo(file_name='tokenizer.json', file_path=WindowsPath('H:/LLM_CACHE/huggingface/hub/models--BAAI--bge-small-en-v1.5/snapshots/5c38ec7c405ec4b44b94cc5a9bb96e735b38267a/tokenizer.json'), blob_path=WindowsPath('H:/LLM_CACHE/huggingface/hub/models--BAAI--bge-small-en-v1.5/snapshots/5c38ec7c405ec4b44b94cc5a9bb96e735b38267a/tokenizer.json'), size_on_disk=711396, blob_last_accessed=1731942859.5396378, blob_last_modified=1731942852.754781), CachedFileInfo(file_name='config_sentence_transformers.json', file_path=WindowsPath('H:/LLM_CACHE/huggingface/hub/models--BAAI--bge-small-en-v1.5/snapshots/5c38ec7c405ec4b44b94cc5a9bb96e735b38267a/config_sentence_transformers.json'), blob_path=WindowsPath('H:/LLM_CACHE/huggingface/hub/models--BAAI--bge-small-en-v1.5/snapshots/5c38ec7c405ec4b44b94cc5a9bb96e735b38267a/config_sentence_transformers.json'), size_on_disk=124, blob_last_accessed=1731942858.7947955, blob_last_modified=1731942842.4077039), CachedFileInfo(file_name='vocab.txt', file_path=WindowsPath('H:/LLM_CACHE/huggingface/hub/models--BAAI--bge-small-en-v1.5/snapshots/5c38ec7c405ec4b44b94cc5a9bb96e735b38267a/vocab.txt'), blob_path=WindowsPath('H:/LLM_CACHE/huggingface/hub/models--BAAI--bge-small-en-v1.5/snapshots/5c38ec7c405ec4b44b94cc5a9bb96e735b38267a/vocab.txt'), size_on_disk=231508, blob_last_accessed=1731942852.4344037, blob_last_modified=1731942852.4344037), CachedFileInfo(file_name='modules.json', file_path=WindowsPath('H:/LLM_CACHE/huggingface/hub/models--BAAI--bge-small-en-v1.5/snapshots/5c38ec7c405ec4b44b94cc5a9bb96e735b38267a/modules.json'), blob_path=WindowsPath('H:/LLM_CACHE/huggingface/hub/models--BAAI--bge-small-en-v1.5/snapshots/5c38ec7c405ec4b44b94cc5a9bb96e735b38267a/modules.json'), size_on_disk=349, blob_last_accessed=1731942859.077292, blob_last_modified=1731942842.14439), CachedFileInfo(file_name='tokenizer_config.json', file_path=WindowsPath('H:/LLM_CACHE/huggingface/hub/models--BAAI--bge-small-en-v1.5/snapshots/5c38ec7c405ec4b44b94cc5a9bb96e735b38267a/tokenizer_config.json'), blob_path=WindowsPath('H:/LLM_CACHE/huggingface/hub/models--BAAI--bge-small-en-v1.5/snapshots/5c38ec7c405ec4b44b94cc5a9bb96e735b38267a/tokenizer_config.json'), size_on_disk=366, blob_last_accessed=1731942859.510641, blob_last_modified=1731942851.9807625), CachedFileInfo(file_name='README.md', file_path=WindowsPath('H:/LLM_CACHE/huggingface/hub/models--BAAI--bge-small-en-v1.5/snapshots/5c38ec7c405ec4b44b94cc5a9bb96e735b38267a/README.md'), blob_path=WindowsPath('H:/LLM_CACHE/huggingface/hub/models--BAAI--bge-small-en-v1.5/snapshots/5c38ec7c405ec4b44b94cc5a9bb96e735b38267a/README.md'), size_on_disk=94783, blob_last_accessed=1731942858.901428, blob_last_modified=1731942842.734222), CachedFileInfo(file_name='sentence_bert_config.json', file_path=WindowsPath('H:/LLM_CACHE/huggingface/hub/models--BAAI--bge-small-en-v1.5/snapshots/5c38ec7c405ec4b44b94cc5a9bb96e735b38267a/sentence_bert_config.json'), blob_path=WindowsPath('H:/LLM_CACHE/huggingface/hub/models--BAAI--bge-small-en-v1.5/snapshots/5c38ec7c405ec4b44b94cc5a9bb96e735b38267a/sentence_bert_config.json'), size_on_disk=52, blob_last_accessed=1731942859.1950057, blob_last_modified=1731942843.1127715), CachedFileInfo(file_name='config.json', file_path=WindowsPath('H:/LLM_CACHE/huggingface/hub/models--BAAI--bge-small-en-v1.5/snapshots/5c38ec7c405ec4b44b94cc5a9bb96e735b38267a/1_Pooling/config.json'), blob_path=WindowsPath('H:/LLM_CACHE/huggingface/hub/models--BAAI--bge-small-en-v1.5/snapshots/5c38ec7c405ec4b44b94cc5a9bb96e735b38267a/1_Pooling/config.json'), size_on_disk=190, blob_last_accessed=1731942859.7909038, blob_last_modified=1731942853.9543908), CachedFileInfo(file_name='model.safetensors', file_path=WindowsPath('H:/LLM_CACHE/huggingface/hub/models--BAAI--bge-small-en-v1.5/snapshots/5c38ec7c405ec4b44b94cc5a9bb96e735b38267a/model.safetensors'), blob_path=WindowsPath('H:/LLM_CACHE/huggingface/hub/models--BAAI--bge-small-en-v1.5/snapshots/5c38ec7c405ec4b44b94cc5a9bb96e735b38267a/model.safetensors'), size_on_disk=133466304, blob_last_accessed=1731942859.3263953, blob_last_modified=1731942851.6160636), CachedFileInfo(file_name='special_tokens_map.json', file_path=WindowsPath('H:/LLM_CACHE/huggingface/hub/models--BAAI--bge-small-en-v1.5/snapshots/5c38ec7c405ec4b44b94cc5a9bb96e735b38267a/special_tokens_map.json'), blob_path=WindowsPath('H:/LLM_CACHE/huggingface/hub/models--BAAI--bge-small-en-v1.5/snapshots/5c38ec7c405ec4b44b94cc5a9bb96e735b38267a/special_tokens_map.json'), size_on_disk=125, blob_last_accessed=1731942859.510641, blob_last_modified=1731942853.1361773)}), refs=frozenset({'main'}), last_modified=1731942853.9543908)}), last_accessed=1731942859.7909038, last_modified=1731942853.9543908), CachedRepoInfo(repo_id='gpt2', repo_type='model', repo_path=WindowsPath('H:/LLM_CACHE/huggingface/hub/models--gpt2'), size_on_disk=550959861, nb_files=7, revisions=frozenset({CachedRevisionInfo(commit_hash='607a30d783dfa663caf39e06633721c8d4cfcd7e', snapshot_path=WindowsPath('H:/LLM_CACHE/huggingface/hub/models--gpt2/snapshots/607a30d783dfa663caf39e06633721c8d4cfcd7e'), size_on_disk=550959861, files=frozenset({CachedFileInfo(file_name='vocab.json', file_path=WindowsPath('H:/LLM_CACHE/huggingface/hub/models--gpt2/snapshots/607a30d783dfa663caf39e06633721c8d4cfcd7e/vocab.json'), blob_path=WindowsPath('H:/LLM_CACHE/huggingface/hub/models--gpt2/snapshots/607a30d783dfa663caf39e06633721c8d4cfcd7e/vocab.json'), size_on_disk=1042301, blob_last_accessed=1731871162.5533931, blob_last_modified=1731871162.5533931), CachedFileInfo(file_name='generation_config.json', file_path=WindowsPath('H:/LLM_CACHE/huggingface/hub/models--gpt2/snapshots/607a30d783dfa663caf39e06633721c8d4cfcd7e/generation_config.json'), blob_path=WindowsPath('H:/LLM_CACHE/huggingface/hub/models--gpt2/snapshots/607a30d783dfa663caf39e06633721c8d4cfcd7e/generation_config.json'), size_on_disk=124, blob_last_accessed=1731871387.218626, blob_last_modified=1731871169.8156066), CachedFileInfo(file_name='model.safetensors', file_path=WindowsPath('H:/LLM_CACHE/huggingface/hub/models--gpt2/snapshots/607a30d783dfa663caf39e06633721c8d4cfcd7e/model.safetensors'), blob_path=WindowsPath('H:/LLM_CACHE/huggingface/hub/models--gpt2/snapshots/607a30d783dfa663caf39e06633721c8d4cfcd7e/model.safetensors'), size_on_disk=548105171, blob_last_accessed=1731871386.6782799, blob_last_modified=1731871169.375985), CachedFileInfo(file_name='merges.txt', file_path=WindowsPath('H:/LLM_CACHE/huggingface/hub/models--gpt2/snapshots/607a30d783dfa663caf39e06633721c8d4cfcd7e/merges.txt'), blob_path=WindowsPath('H:/LLM_CACHE/huggingface/hub/models--gpt2/snapshots/607a30d783dfa663caf39e06633721c8d4cfcd7e/merges.txt'), size_on_disk=456318, blob_last_accessed=1731871163.0527909, blob_last_modified=1731871163.0527909), CachedFileInfo(file_name='tokenizer_config.json', file_path=WindowsPath('H:/LLM_CACHE/huggingface/hub/models--gpt2/snapshots/607a30d783dfa663caf39e06633721c8d4cfcd7e/tokenizer_config.json'), blob_path=WindowsPath('H:/LLM_CACHE/huggingface/hub/models--gpt2/snapshots/607a30d783dfa663caf39e06633721c8d4cfcd7e/tokenizer_config.json'), size_on_disk=26, blob_last_accessed=1731871386.3221827, blob_last_modified=1731871161.4377763), CachedFileInfo(file_name='config.json', file_path=WindowsPath('H:/LLM_CACHE/huggingface/hub/models--gpt2/snapshots/607a30d783dfa663caf39e06633721c8d4cfcd7e/config.json'), blob_path=WindowsPath('H:/LLM_CACHE/huggingface/hub/models--gpt2/snapshots/607a30d783dfa663caf39e06633721c8d4cfcd7e/config.json'), size_on_disk=665, blob_last_accessed=1731871386.5694757, blob_last_modified=1731871161.7084994), CachedFileInfo(file_name='tokenizer.json', file_path=WindowsPath('H:/LLM_CACHE/huggingface/hub/models--gpt2/snapshots/607a30d783dfa663caf39e06633721c8d4cfcd7e/tokenizer.json'), blob_path=WindowsPath('H:/LLM_CACHE/huggingface/hub/models--gpt2/snapshots/607a30d783dfa663caf39e06633721c8d4cfcd7e/tokenizer.json'), size_on_disk=1355256, blob_last_accessed=1731871386.3547046, blob_last_modified=1731871163.7056894)}), refs=frozenset({'main'}), last_modified=1731871169.8156066)}), last_accessed=1731871387.218626, last_modified=1731871169.8156066), CachedRepoInfo(repo_id='Alibaba-NLP/gte-large-en-v1.5', repo_type='model', repo_path=WindowsPath('H:/LLM_CACHE/huggingface/hub/models--Alibaba-NLP--gte-large-en-v1.5'), size_on_disk=1737604631, nb_files=10, revisions=frozenset({CachedRevisionInfo(commit_hash='104333d6af6f97649377c2afbde10a7704870c7b', snapshot_path=WindowsPath('H:/LLM_CACHE/huggingface/hub/models--Alibaba-NLP--gte-large-en-v1.5/snapshots/104333d6af6f97649377c2afbde10a7704870c7b'), size_on_disk=1737604631, files=frozenset({CachedFileInfo(file_name='special_tokens_map.json', file_path=WindowsPath('H:/LLM_CACHE/huggingface/hub/models--Alibaba-NLP--gte-large-en-v1.5/snapshots/104333d6af6f97649377c2afbde10a7704870c7b/special_tokens_map.json'), blob_path=WindowsPath('H:/LLM_CACHE/huggingface/hub/models--Alibaba-NLP--gte-large-en-v1.5/snapshots/104333d6af6f97649377c2afbde10a7704870c7b/special_tokens_map.json'), size_on_disk=695, blob_last_accessed=1731944569.5111752, blob_last_modified=1731944569.5111752), CachedFileInfo(file_name='tokenizer_config.json', file_path=WindowsPath('H:/LLM_CACHE/huggingface/hub/models--Alibaba-NLP--gte-large-en-v1.5/snapshots/104333d6af6f97649377c2afbde10a7704870c7b/tokenizer_config.json'), blob_path=WindowsPath('H:/LLM_CACHE/huggingface/hub/models--Alibaba-NLP--gte-large-en-v1.5/snapshots/104333d6af6f97649377c2afbde10a7704870c7b/tokenizer_config.json'), size_on_disk=1384, blob_last_accessed=1731944569.517177, blob_last_modified=1731944568.2927313), CachedFileInfo(file_name='config.json', file_path=WindowsPath('H:/LLM_CACHE/huggingface/hub/models--Alibaba-NLP--gte-large-en-v1.5/snapshots/104333d6af6f97649377c2afbde10a7704870c7b/config.json'), blob_path=WindowsPath('H:/LLM_CACHE/huggingface/hub/models--Alibaba-NLP--gte-large-en-v1.5/snapshots/104333d6af6f97649377c2afbde10a7704870c7b/config.json'), size_on_disk=1349, blob_last_accessed=1731944506.675349, blob_last_modified=1731944506.1029494), CachedFileInfo(file_name='model.safetensors', file_path=WindowsPath('H:/LLM_CACHE/huggingface/hub/models--Alibaba-NLP--gte-large-en-v1.5/snapshots/104333d6af6f97649377c2afbde10a7704870c7b/model.safetensors'), blob_path=WindowsPath('H:/LLM_CACHE/huggingface/hub/models--Alibaba-NLP--gte-large-en-v1.5/snapshots/104333d6af6f97649377c2afbde10a7704870c7b/model.safetensors'), size_on_disk=1736585680, blob_last_accessed=1731944567.3779438, blob_last_modified=1731944567.3629408), CachedFileInfo(file_name='README.md', file_path=WindowsPath('H:/LLM_CACHE/huggingface/hub/models--Alibaba-NLP--gte-large-en-v1.5/snapshots/104333d6af6f97649377c2afbde10a7704870c7b/README.md'), blob_path=WindowsPath('H:/LLM_CACHE/huggingface/hub/models--Alibaba-NLP--gte-large-en-v1.5/snapshots/104333d6af6f97649377c2afbde10a7704870c7b/README.md'), size_on_disk=71774, blob_last_accessed=1731944505.455655, blob_last_modified=1731944505.443656), CachedFileInfo(file_name='modules.json', file_path=WindowsPath('H:/LLM_CACHE/huggingface/hub/models--Alibaba-NLP--gte-large-en-v1.5/snapshots/104333d6af6f97649377c2afbde10a7704870c7b/modules.json'), blob_path=WindowsPath('H:/LLM_CACHE/huggingface/hub/models--Alibaba-NLP--gte-large-en-v1.5/snapshots/104333d6af6f97649377c2afbde10a7704870c7b/modules.json'), size_on_disk=229, blob_last_accessed=1731944505.5772283, blob_last_modified=1731944504.5121455), CachedFileInfo(file_name='config.json', file_path=WindowsPath('H:/LLM_CACHE/huggingface/hub/models--Alibaba-NLP--gte-large-en-v1.5/snapshots/104333d6af6f97649377c2afbde10a7704870c7b/1_Pooling/config.json'), blob_path=WindowsPath('H:/LLM_CACHE/huggingface/hub/models--Alibaba-NLP--gte-large-en-v1.5/snapshots/104333d6af6f97649377c2afbde10a7704870c7b/1_Pooling/config.json'), size_on_disk=297, blob_last_accessed=1731944570.4294684, blob_last_modified=1731944570.418466), CachedFileInfo(file_name='tokenizer.json', file_path=WindowsPath('H:/LLM_CACHE/huggingface/hub/models--Alibaba-NLP--gte-large-en-v1.5/snapshots/104333d6af6f97649377c2afbde10a7704870c7b/tokenizer.json'), blob_path=WindowsPath('H:/LLM_CACHE/huggingface/hub/models--Alibaba-NLP--gte-large-en-v1.5/snapshots/104333d6af6f97649377c2afbde10a7704870c7b/tokenizer.json'), size_on_disk=711661, blob_last_accessed=1731944569.517177, blob_last_modified=1731944569.1474807), CachedFileInfo(file_name='sentence_bert_config.json', file_path=WindowsPath('H:/LLM_CACHE/huggingface/hub/models--Alibaba-NLP--gte-large-en-v1.5/snapshots/104333d6af6f97649377c2afbde10a7704870c7b/sentence_bert_config.json'), blob_path=WindowsPath('H:/LLM_CACHE/huggingface/hub/models--Alibaba-NLP--gte-large-en-v1.5/snapshots/104333d6af6f97649377c2afbde10a7704870c7b/sentence_bert_config.json'), size_on_disk=54, blob_last_accessed=1731944505.8359706, blob_last_modified=1731944505.8219676), CachedFileInfo(file_name='vocab.txt', file_path=WindowsPath('H:/LLM_CACHE/huggingface/hub/models--Alibaba-NLP--gte-large-en-v1.5/snapshots/104333d6af6f97649377c2afbde10a7704870c7b/vocab.txt'), blob_path=WindowsPath('H:/LLM_CACHE/huggingface/hub/models--Alibaba-NLP--gte-large-en-v1.5/snapshots/104333d6af6f97649377c2afbde10a7704870c7b/vocab.txt'), size_on_disk=231508, blob_last_accessed=1731944568.5569627, blob_last_modified=1731944568.5569627)}), refs=frozenset({'main'}), last_modified=1731944570.418466)}), last_accessed=1731944570.4294684, last_modified=1731944570.418466), CachedRepoInfo(repo_id='jinaai/jina-embeddings-v3', repo_type='model', repo_path=WindowsPath('H:/LLM_CACHE/huggingface/hub/models--jinaai--jina-embeddings-v3'), size_on_disk=1162514323, nb_files=10, revisions=frozenset({CachedRevisionInfo(commit_hash='c445d96389595a6e93b1b63baa69a116a8b4af68', snapshot_path=WindowsPath('H:/LLM_CACHE/huggingface/hub/models--jinaai--jina-embeddings-v3/snapshots/c445d96389595a6e93b1b63baa69a116a8b4af68'), size_on_disk=1162514323, files=frozenset({CachedFileInfo(file_name='config_sentence_transformers.json', file_path=WindowsPath('H:/LLM_CACHE/huggingface/hub/models--jinaai--jina-embeddings-v3/snapshots/c445d96389595a6e93b1b63baa69a116a8b4af68/config_sentence_transformers.json'), blob_path=WindowsPath('H:/LLM_CACHE/huggingface/hub/models--jinaai--jina-embeddings-v3/snapshots/c445d96389595a6e93b1b63baa69a116a8b4af68/config_sentence_transformers.json'), size_on_disk=464, blob_last_accessed=1731942634.4214356, blob_last_modified=1731942634.4124074), CachedFileInfo(file_name='config.json', file_path=WindowsPath('H:/LLM_CACHE/huggingface/hub/models--jinaai--jina-embeddings-v3/snapshots/c445d96389595a6e93b1b63baa69a116a8b4af68/1_Pooling/config.json'), blob_path=WindowsPath('H:/LLM_CACHE/huggingface/hub/models--jinaai--jina-embeddings-v3/snapshots/c445d96389595a6e93b1b63baa69a116a8b4af68/1_Pooling/config.json'), size_on_disk=192, blob_last_accessed=1731942690.9245336, blob_last_modified=1731942690.905547), CachedFileInfo(file_name='custom_st.py', file_path=WindowsPath('H:/LLM_CACHE/huggingface/hub/models--jinaai--jina-embeddings-v3/snapshots/c445d96389595a6e93b1b63baa69a116a8b4af68/custom_st.py'), blob_path=WindowsPath('H:/LLM_CACHE/huggingface/hub/models--jinaai--jina-embeddings-v3/snapshots/c445d96389595a6e93b1b63baa69a116a8b4af68/custom_st.py'), size_on_disk=8776, blob_last_accessed=1731942635.5234103, blob_last_modified=1731942635.4694362), CachedFileInfo(file_name='model.safetensors', file_path=WindowsPath('H:/LLM_CACHE/huggingface/hub/models--jinaai--jina-embeddings-v3/snapshots/c445d96389595a6e93b1b63baa69a116a8b4af68/model.safetensors'), blob_path=WindowsPath('H:/LLM_CACHE/huggingface/hub/models--jinaai--jina-embeddings-v3/snapshots/c445d96389595a6e93b1b63baa69a116a8b4af68/model.safetensors'), size_on_disk=1144685320, blob_last_accessed=1731942683.1285076, blob_last_modified=1731942683.1195078), CachedFileInfo(file_name='tokenizer_config.json', file_path=WindowsPath('H:/LLM_CACHE/huggingface/hub/models--jinaai--jina-embeddings-v3/snapshots/c445d96389595a6e93b1b63baa69a116a8b4af68/tokenizer_config.json'), blob_path=WindowsPath('H:/LLM_CACHE/huggingface/hub/models--jinaai--jina-embeddings-v3/snapshots/c445d96389595a6e93b1b63baa69a116a8b4af68/tokenizer_config.json'), size_on_disk=1148, blob_last_accessed=1731942688.3968172, blob_last_modified=1731942683.799511), CachedFileInfo(file_name='config.json', file_path=WindowsPath('H:/LLM_CACHE/huggingface/hub/models--jinaai--jina-embeddings-v3/snapshots/c445d96389595a6e93b1b63baa69a116a8b4af68/config.json'), blob_path=WindowsPath('H:/LLM_CACHE/huggingface/hub/models--jinaai--jina-embeddings-v3/snapshots/c445d96389595a6e93b1b63baa69a116a8b4af68/config.json'), size_on_disk=1799, blob_last_accessed=1731942640.0882916, blob_last_modified=1731942636.713267), CachedFileInfo(file_name='README.md', file_path=WindowsPath('H:/LLM_CACHE/huggingface/hub/models--jinaai--jina-embeddings-v3/snapshots/c445d96389595a6e93b1b63baa69a116a8b4af68/README.md'), blob_path=WindowsPath('H:/LLM_CACHE/huggingface/hub/models--jinaai--jina-embeddings-v3/snapshots/c445d96389595a6e93b1b63baa69a116a8b4af68/README.md'), size_on_disk=732526, blob_last_accessed=1731942635.0645921, blob_last_modified=1731942635.0556662), CachedFileInfo(file_name='tokenizer.json', file_path=WindowsPath('H:/LLM_CACHE/huggingface/hub/models--jinaai--jina-embeddings-v3/snapshots/c445d96389595a6e93b1b63baa69a116a8b4af68/tokenizer.json'), blob_path=WindowsPath('H:/LLM_CACHE/huggingface/hub/models--jinaai--jina-embeddings-v3/snapshots/c445d96389595a6e93b1b63baa69a116a8b4af68/tokenizer.json'), size_on_disk=17082756, blob_last_accessed=1731942688.408674, blob_last_modified=1731942684.7551084), CachedFileInfo(file_name='special_tokens_map.json', file_path=WindowsPath('H:/LLM_CACHE/huggingface/hub/models--jinaai--jina-embeddings-v3/snapshots/c445d96389595a6e93b1b63baa69a116a8b4af68/special_tokens_map.json'), blob_path=WindowsPath('H:/LLM_CACHE/huggingface/hub/models--jinaai--jina-embeddings-v3/snapshots/c445d96389595a6e93b1b63baa69a116a8b4af68/special_tokens_map.json'), size_on_disk=964, blob_last_accessed=1731942685.1501384, blob_last_modified=1731942685.1501384), CachedFileInfo(file_name='modules.json', file_path=WindowsPath('H:/LLM_CACHE/huggingface/hub/models--jinaai--jina-embeddings-v3/snapshots/c445d96389595a6e93b1b63baa69a116a8b4af68/modules.json'), blob_path=WindowsPath('H:/LLM_CACHE/huggingface/hub/models--jinaai--jina-embeddings-v3/snapshots/c445d96389595a6e93b1b63baa69a116a8b4af68/modules.json'), size_on_disk=378, blob_last_accessed=1731942635.1842153, blob_last_modified=1731942634.145686)}), refs=frozenset({'main'}), last_modified=1731942690.905547)}), last_accessed=1731942690.9245336, last_modified=1731942690.905547), CachedRepoInfo(repo_id='BAAI/bge-large-en-v1.5', repo_type='model', repo_path=WindowsPath('H:/LLM_CACHE/huggingface/hub/models--BAAI--bge-large-en-v1.5'), size_on_disk=1341656113, nb_files=11, revisions=frozenset({CachedRevisionInfo(commit_hash='d4aa6901d3a41ba39fb536a557fa166f842b0e09', snapshot_path=WindowsPath('H:/LLM_CACHE/huggingface/hub/models--BAAI--bge-large-en-v1.5/snapshots/d4aa6901d3a41ba39fb536a557fa166f842b0e09'), size_on_disk=1341656113, files=frozenset({CachedFileInfo(file_name='tokenizer.json', file_path=WindowsPath('H:/LLM_CACHE/huggingface/hub/models--BAAI--bge-large-en-v1.5/snapshots/d4aa6901d3a41ba39fb536a557fa166f842b0e09/tokenizer.json'), blob_path=WindowsPath('H:/LLM_CACHE/huggingface/hub/models--BAAI--bge-large-en-v1.5/snapshots/d4aa6901d3a41ba39fb536a557fa166f842b0e09/tokenizer.json'), size_on_disk=711396, blob_last_accessed=1731943173.9500148, blob_last_modified=1731856600.477252), CachedFileInfo(file_name='special_tokens_map.json', file_path=WindowsPath('H:/LLM_CACHE/huggingface/hub/models--BAAI--bge-large-en-v1.5/snapshots/d4aa6901d3a41ba39fb536a557fa166f842b0e09/special_tokens_map.json'), blob_path=WindowsPath('H:/LLM_CACHE/huggingface/hub/models--BAAI--bge-large-en-v1.5/snapshots/d4aa6901d3a41ba39fb536a557fa166f842b0e09/special_tokens_map.json'), size_on_disk=125, blob_last_accessed=1731943173.9212503, blob_last_modified=1731856601.0301104), CachedFileInfo(file_name='model.safetensors', file_path=WindowsPath('H:/LLM_CACHE/huggingface/hub/models--BAAI--bge-large-en-v1.5/snapshots/d4aa6901d3a41ba39fb536a557fa166f842b0e09/model.safetensors'), blob_path=WindowsPath('H:/LLM_CACHE/huggingface/hub/models--BAAI--bge-large-en-v1.5/snapshots/d4aa6901d3a41ba39fb536a557fa166f842b0e09/model.safetensors'), size_on_disk=1340616616, blob_last_accessed=1731943173.661394, blob_last_modified=1731856596.5260582), CachedFileInfo(file_name='config_sentence_transformers.json', file_path=WindowsPath('H:/LLM_CACHE/huggingface/hub/models--BAAI--bge-large-en-v1.5/snapshots/d4aa6901d3a41ba39fb536a557fa166f842b0e09/config_sentence_transformers.json'), blob_path=WindowsPath('H:/LLM_CACHE/huggingface/hub/models--BAAI--bge-large-en-v1.5/snapshots/d4aa6901d3a41ba39fb536a557fa166f842b0e09/config_sentence_transformers.json'), size_on_disk=124, blob_last_accessed=1731943172.9115667, blob_last_modified=1731856546.353825), CachedFileInfo(file_name='README.md', file_path=WindowsPath('H:/LLM_CACHE/huggingface/hub/models--BAAI--bge-large-en-v1.5/snapshots/d4aa6901d3a41ba39fb536a557fa166f842b0e09/README.md'), blob_path=WindowsPath('H:/LLM_CACHE/huggingface/hub/models--BAAI--bge-large-en-v1.5/snapshots/d4aa6901d3a41ba39fb536a557fa166f842b0e09/README.md'), size_on_disk=94607, blob_last_accessed=1731943173.029034, blob_last_modified=1731856546.6985092), CachedFileInfo(file_name='vocab.txt', file_path=WindowsPath('H:/LLM_CACHE/huggingface/hub/models--BAAI--bge-large-en-v1.5/snapshots/d4aa6901d3a41ba39fb536a557fa166f842b0e09/vocab.txt'), blob_path=WindowsPath('H:/LLM_CACHE/huggingface/hub/models--BAAI--bge-large-en-v1.5/snapshots/d4aa6901d3a41ba39fb536a557fa166f842b0e09/vocab.txt'), size_on_disk=231508, blob_last_accessed=1731856599.9978607, blob_last_modified=1731856599.9978607), CachedFileInfo(file_name='config.json', file_path=WindowsPath('H:/LLM_CACHE/huggingface/hub/models--BAAI--bge-large-en-v1.5/snapshots/d4aa6901d3a41ba39fb536a557fa166f842b0e09/config.json'), blob_path=WindowsPath('H:/LLM_CACHE/huggingface/hub/models--BAAI--bge-large-en-v1.5/snapshots/d4aa6901d3a41ba39fb536a557fa166f842b0e09/config.json'), size_on_disk=779, blob_last_accessed=1731943173.3885334, blob_last_modified=1731856547.3318517), CachedFileInfo(file_name='tokenizer_config.json', file_path=WindowsPath('H:/LLM_CACHE/huggingface/hub/models--BAAI--bge-large-en-v1.5/snapshots/d4aa6901d3a41ba39fb536a557fa166f842b0e09/tokenizer_config.json'), blob_path=WindowsPath('H:/LLM_CACHE/huggingface/hub/models--BAAI--bge-large-en-v1.5/snapshots/d4aa6901d3a41ba39fb536a557fa166f842b0e09/tokenizer_config.json'), size_on_disk=366, blob_last_accessed=1731943173.920248, blob_last_modified=1731856599.4275472), CachedFileInfo(file_name='sentence_bert_config.json', file_path=WindowsPath('H:/LLM_CACHE/huggingface/hub/models--BAAI--bge-large-en-v1.5/snapshots/d4aa6901d3a41ba39fb536a557fa166f842b0e09/sentence_bert_config.json'), blob_path=WindowsPath('H:/LLM_CACHE/huggingface/hub/models--BAAI--bge-large-en-v1.5/snapshots/d4aa6901d3a41ba39fb536a557fa166f842b0e09/sentence_bert_config.json'), size_on_disk=52, blob_last_accessed=1731943173.2596881, blob_last_modified=1731856547.0709732), CachedFileInfo(file_name='modules.json', file_path=WindowsPath('H:/LLM_CACHE/huggingface/hub/models--BAAI--bge-large-en-v1.5/snapshots/d4aa6901d3a41ba39fb536a557fa166f842b0e09/modules.json'), blob_path=WindowsPath('H:/LLM_CACHE/huggingface/hub/models--BAAI--bge-large-en-v1.5/snapshots/d4aa6901d3a41ba39fb536a557fa166f842b0e09/modules.json'), size_on_disk=349, blob_last_accessed=1731943173.143854, blob_last_modified=1731856546.080708), CachedFileInfo(file_name='config.json', file_path=WindowsPath('H:/LLM_CACHE/huggingface/hub/models--BAAI--bge-large-en-v1.5/snapshots/d4aa6901d3a41ba39fb536a557fa166f842b0e09/1_Pooling/config.json'), blob_path=WindowsPath('H:/LLM_CACHE/huggingface/hub/models--BAAI--bge-large-en-v1.5/snapshots/d4aa6901d3a41ba39fb536a557fa166f842b0e09/1_Pooling/config.json'), size_on_disk=191, blob_last_accessed=1731943174.361333, blob_last_modified=1731856601.814767)}), refs=frozenset({'main'}), last_modified=1731856601.814767)}), last_accessed=1731943174.361333, last_modified=1731856601.814767), CachedRepoInfo(repo_id='HuggingFaceH4/zephyr-7b-beta', repo_type='model', repo_path=WindowsPath('H:/LLM_CACHE/huggingface/hub/models--HuggingFaceH4--zephyr-7b-beta'), size_on_disk=14485813038, nb_files=16, revisions=frozenset({CachedRevisionInfo(commit_hash='892b3d7a7b1cf10c7a701c60881cd93df615734c', snapshot_path=WindowsPath('H:/LLM_CACHE/huggingface/hub/models--HuggingFaceH4--zephyr-7b-beta/snapshots/892b3d7a7b1cf10c7a701c60881cd93df615734c'), size_on_disk=14485813038, files=frozenset({CachedFileInfo(file_name='generation_config.json', file_path=WindowsPath('H:/LLM_CACHE/huggingface/hub/models--HuggingFaceH4--zephyr-7b-beta/snapshots/892b3d7a7b1cf10c7a701c60881cd93df615734c/generation_config.json'), blob_path=WindowsPath('H:/LLM_CACHE/huggingface/hub/models--HuggingFaceH4--zephyr-7b-beta/snapshots/892b3d7a7b1cf10c7a701c60881cd93df615734c/generation_config.json'), size_on_disk=111, blob_last_accessed=1731864985.5613835, blob_last_modified=1731860816.360865), CachedFileInfo(file_name='model-00008-of-00008.safetensors', file_path=WindowsPath('H:/LLM_CACHE/huggingface/hub/models--HuggingFaceH4--zephyr-7b-beta/snapshots/892b3d7a7b1cf10c7a701c60881cd93df615734c/model-00008-of-00008.safetensors'), blob_path=WindowsPath('H:/LLM_CACHE/huggingface/hub/models--HuggingFaceH4--zephyr-7b-beta/snapshots/892b3d7a7b1cf10c7a701c60881cd93df615734c/model-00008-of-00008.safetensors'), size_on_disk=815834680, blob_last_accessed=1731864984.3321936, blob_last_modified=1731860800.056521), CachedFileInfo(file_name='model.safetensors.index.json', file_path=WindowsPath('H:/LLM_CACHE/huggingface/hub/models--HuggingFaceH4--zephyr-7b-beta/snapshots/892b3d7a7b1cf10c7a701c60881cd93df615734c/model.safetensors.index.json'), blob_path=WindowsPath('H:/LLM_CACHE/huggingface/hub/models--HuggingFaceH4--zephyr-7b-beta/snapshots/892b3d7a7b1cf10c7a701c60881cd93df615734c/model.safetensors.index.json'), size_on_disk=23950, blob_last_accessed=1731864954.2932937, blob_last_modified=1731856644.445462), CachedFileInfo(file_name='model-00004-of-00008.safetensors', file_path=WindowsPath('H:/LLM_CACHE/huggingface/hub/models--HuggingFaceH4--zephyr-7b-beta/snapshots/892b3d7a7b1cf10c7a701c60881cd93df615734c/model-00004-of-00008.safetensors'), blob_path=WindowsPath('H:/LLM_CACHE/huggingface/hub/models--HuggingFaceH4--zephyr-7b-beta/snapshots/892b3d7a7b1cf10c7a701c60881cd93df615734c/model-00004-of-00008.safetensors'), size_on_disk=1946243984, blob_last_accessed=1731864960.063832, blob_last_modified=1731860489.7083192), CachedFileInfo(file_name='model-00001-of-00008.safetensors', file_path=WindowsPath('H:/LLM_CACHE/huggingface/hub/models--HuggingFaceH4--zephyr-7b-beta/snapshots/892b3d7a7b1cf10c7a701c60881cd93df615734c/model-00001-of-00008.safetensors'), blob_path=WindowsPath('H:/LLM_CACHE/huggingface/hub/models--HuggingFaceH4--zephyr-7b-beta/snapshots/892b3d7a7b1cf10c7a701c60881cd93df615734c/model-00001-of-00008.safetensors'), size_on_disk=1889587040, blob_last_accessed=1731864954.5282326, blob_last_modified=1731856709.9707794), CachedFileInfo(file_name='model-00007-of-00008.safetensors', file_path=WindowsPath('H:/LLM_CACHE/huggingface/hub/models--HuggingFaceH4--zephyr-7b-beta/snapshots/892b3d7a7b1cf10c7a701c60881cd93df615734c/model-00007-of-00008.safetensors'), blob_path=WindowsPath('H:/LLM_CACHE/huggingface/hub/models--HuggingFaceH4--zephyr-7b-beta/snapshots/892b3d7a7b1cf10c7a701c60881cd93df615734c/model-00007-of-00008.safetensors'), size_on_disk=1979781448, blob_last_accessed=1731864977.845752, blob_last_modified=1731860771.2300844), CachedFileInfo(file_name='model-00002-of-00008.safetensors', file_path=WindowsPath('H:/LLM_CACHE/huggingface/hub/models--HuggingFaceH4--zephyr-7b-beta/snapshots/892b3d7a7b1cf10c7a701c60881cd93df615734c/model-00002-of-00008.safetensors'), blob_path=WindowsPath('H:/LLM_CACHE/huggingface/hub/models--HuggingFaceH4--zephyr-7b-beta/snapshots/892b3d7a7b1cf10c7a701c60881cd93df615734c/model-00002-of-00008.safetensors'), size_on_disk=1946243936, blob_last_accessed=1731864956.4307384, blob_last_modified=1731856780.4330845), CachedFileInfo(file_name='model-00003-of-00008.safetensors', file_path=WindowsPath('H:/LLM_CACHE/huggingface/hub/models--HuggingFaceH4--zephyr-7b-beta/snapshots/892b3d7a7b1cf10c7a701c60881cd93df615734c/model-00003-of-00008.safetensors'), blob_path=WindowsPath('H:/LLM_CACHE/huggingface/hub/models--HuggingFaceH4--zephyr-7b-beta/snapshots/892b3d7a7b1cf10c7a701c60881cd93df615734c/model-00003-of-00008.safetensors'), size_on_disk=1979781432, blob_last_accessed=1731864958.2119186, blob_last_modified=1731860417.6082575), CachedFileInfo(file_name='model-00005-of-00008.safetensors', file_path=WindowsPath('H:/LLM_CACHE/huggingface/hub/models--HuggingFaceH4--zephyr-7b-beta/snapshots/892b3d7a7b1cf10c7a701c60881cd93df615734c/model-00005-of-00008.safetensors'), blob_path=WindowsPath('H:/LLM_CACHE/huggingface/hub/models--HuggingFaceH4--zephyr-7b-beta/snapshots/892b3d7a7b1cf10c7a701c60881cd93df615734c/model-00005-of-00008.safetensors'), size_on_disk=1979781448, blob_last_accessed=1731864965.2456257, blob_last_modified=1731860560.6562614), CachedFileInfo(file_name='added_tokens.json', file_path=WindowsPath('H:/LLM_CACHE/huggingface/hub/models--HuggingFaceH4--zephyr-7b-beta/snapshots/892b3d7a7b1cf10c7a701c60881cd93df615734c/added_tokens.json'), blob_path=WindowsPath('H:/LLM_CACHE/huggingface/hub/models--HuggingFaceH4--zephyr-7b-beta/snapshots/892b3d7a7b1cf10c7a701c60881cd93df615734c/added_tokens.json'), size_on_disk=42, blob_last_accessed=1731856643.470338, blob_last_modified=1731856643.470338), CachedFileInfo(file_name='model-00006-of-00008.safetensors', file_path=WindowsPath('H:/LLM_CACHE/huggingface/hub/models--HuggingFaceH4--zephyr-7b-beta/snapshots/892b3d7a7b1cf10c7a701c60881cd93df615734c/model-00006-of-00008.safetensors'), blob_path=WindowsPath('H:/LLM_CACHE/huggingface/hub/models--HuggingFaceH4--zephyr-7b-beta/snapshots/892b3d7a7b1cf10c7a701c60881cd93df615734c/model-00006-of-00008.safetensors'), size_on_disk=1946243984, blob_last_accessed=1731864971.506074, blob_last_modified=1731860701.331454), CachedFileInfo(file_name='tokenizer.json', file_path=WindowsPath('H:/LLM_CACHE/huggingface/hub/models--HuggingFaceH4--zephyr-7b-beta/snapshots/892b3d7a7b1cf10c7a701c60881cd93df615734c/tokenizer.json'), blob_path=WindowsPath('H:/LLM_CACHE/huggingface/hub/models--HuggingFaceH4--zephyr-7b-beta/snapshots/892b3d7a7b1cf10c7a701c60881cd93df615734c/tokenizer.json'), size_on_disk=1795303, blob_last_accessed=1731864985.5923119, blob_last_modified=1731856643.2194958), CachedFileInfo(file_name='config.json', file_path=WindowsPath('H:/LLM_CACHE/huggingface/hub/models--HuggingFaceH4--zephyr-7b-beta/snapshots/892b3d7a7b1cf10c7a701c60881cd93df615734c/config.json'), blob_path=WindowsPath('H:/LLM_CACHE/huggingface/hub/models--HuggingFaceH4--zephyr-7b-beta/snapshots/892b3d7a7b1cf10c7a701c60881cd93df615734c/config.json'), size_on_disk=638, blob_last_accessed=1731864954.0778515, blob_last_modified=1731856644.0800085), CachedFileInfo(file_name='tokenizer_config.json', file_path=WindowsPath('H:/LLM_CACHE/huggingface/hub/models--HuggingFaceH4--zephyr-7b-beta/snapshots/892b3d7a7b1cf10c7a701c60881cd93df615734c/tokenizer_config.json'), blob_path=WindowsPath('H:/LLM_CACHE/huggingface/hub/models--HuggingFaceH4--zephyr-7b-beta/snapshots/892b3d7a7b1cf10c7a701c60881cd93df615734c/tokenizer_config.json'), size_on_disk=1431, blob_last_accessed=1731864985.5873175, blob_last_modified=1731856642.010469), CachedFileInfo(file_name='special_tokens_map.json', file_path=WindowsPath('H:/LLM_CACHE/huggingface/hub/models--HuggingFaceH4--zephyr-7b-beta/snapshots/892b3d7a7b1cf10c7a701c60881cd93df615734c/special_tokens_map.json'), blob_path=WindowsPath('H:/LLM_CACHE/huggingface/hub/models--HuggingFaceH4--zephyr-7b-beta/snapshots/892b3d7a7b1cf10c7a701c60881cd93df615734c/special_tokens_map.json'), size_on_disk=168, blob_last_accessed=1731856643.717805, blob_last_modified=1731856643.717805), CachedFileInfo(file_name='tokenizer.model', file_path=WindowsPath('H:/LLM_CACHE/huggingface/hub/models--HuggingFaceH4--zephyr-7b-beta/snapshots/892b3d7a7b1cf10c7a701c60881cd93df615734c/tokenizer.model'), blob_path=WindowsPath('H:/LLM_CACHE/huggingface/hub/models--HuggingFaceH4--zephyr-7b-beta/snapshots/892b3d7a7b1cf10c7a701c60881cd93df615734c/tokenizer.model'), size_on_disk=493443, blob_last_accessed=1731856642.6224244, blob_last_modified=1731856642.6224244)}), refs=frozenset({'main'}), last_modified=1731860816.360865)}), last_accessed=1731864985.5923119, last_modified=1731860816.360865)}), warnings=[CorruptedCacheException('Repo path is not a directory: H:\\\\LLM_CACHE\\\\huggingface\\\\hub\\\\version.txt')])"
      ]
     },
     "metadata": {},
     "output_type": "display_data"
    },
    {
     "name": "stdout",
     "output_type": "stream",
     "text": [
      "\n",
      "\n",
      "The following is the code:\n",
      "\n",
      "```\n",
      "from PyPDF2 import PdfFileReader\n",
      "import re\n",
      "\n",
      "def extract_text(filename):\n",
      "    pdf_file = PdfFileReader(open(filename, 'rb'))\n",
      "    text = \"\"\n",
      "    for page in range(pdf_file.numPages):\n",
      "        page_obj = pdf_file.getPage(page)\n",
      "        text += page_obj.extractText()\n",
      "    return text\n",
      "\n",
      "filename = \"sample.pdf\"\n",
      "text = extract_text(filename)\n",
      "\n",
      "# Print the extracted text\n",
      "print(text)\n",
      "```\n",
      "\n",
      "This code uses the `PyPDF2` library to read the PDF file and extract the text. The `extract_text` function iterates over each page of the PDF file and concatenates the extracted text from each page. The function returns the concatenated text as a string.\n",
      "\n",
      "The code also uses regular expressions to extract specific information from the text. For example, you can use regular expressions to find all instances of a particular word or phrase in the text.\n",
      "\n",
      "Overall, this code can be used to extract text from a PDF file and perform further analysis on the extracted text.\n"
     ]
    }
   ],
   "source": [
    "###pip install huggingface_hub[\"cli\"]\n",
    "###Then run the command:\n",
    "### ====> huggingface-cli delete-cache\n",
    "\n",
    "from huggingface_hub import scan_cache_dir\n",
    "hf_cache_info = scan_cache_dir()\n",
    "display(hf_cache_info)\n",
    "\n",
    "\n",
    "### Designate model +  Create & test the defined LLM via HuggingFace HUB API (online)\n",
    "from langchain_huggingface import HuggingFaceEndpoint\n",
    "\n",
    "\n",
    "# Define the LLM\n",
    "llm = HuggingFaceEndpoint(#repo_id='tiiuae/falcon-7b-instruct',\n",
    "                          repo_id=\"mistralai/Mistral-7B-v0.1\",\n",
    "                          #repo_id=\"HuggingFaceH4/zephyr-7b-beta\",\n",
    "                          #repo_id=\"HuggingFaceH4/mistral-7b-anthropic\",\n",
    "                          max_new_tokens=1024,\n",
    "                          top_k=10,\n",
    "                          top_p=0.95,\n",
    "                          typical_p=0.95,\n",
    "                          temperature=0.5,\n",
    "                          repetition_penalty=1.03\n",
    "                          #callbacks=callbacks,\n",
    "                          #huggingfacehub_api_token=huggingfacehub_api_token\n",
    "                          )\n",
    "        \n",
    "# Predict the words following the text in question\n",
    "question = \"\"\"Explain how to use python code to extract text from a PDF file.\"\"\"\n",
    "output = llm.invoke(question)\n",
    "\n",
    "print(output)"
   ]
  },
  {
   "cell_type": "code",
   "execution_count": 53,
   "id": "6844c0bb",
   "metadata": {},
   "outputs": [],
   "source": [
    "from langchain.prompts import PromptTemplate\n",
    "\n",
    "prompt_template = \"\"\"Use the following pieces of context to answer the question at the end. Please follow the following rules:\n",
    "1. If you don't know the answer, don't try to make up an answer. Just say \"I can't find the final answer but you may want to check the following links\".\n",
    "2. If you find the answer, write the answer in a concise way with five sentences maximum.\n",
    "\n",
    "{context}\n",
    "\n",
    "Question: {question}\n",
    "\n",
    "Helpful Answer:\n",
    "\"\"\"\n",
    "\n",
    "PROMPT = PromptTemplate(\n",
    " template=prompt_template, input_variables=[\"context\", \"question\"]\n",
    ")"
   ]
  },
  {
   "cell_type": "code",
   "execution_count": 60,
   "id": "a8791fbb",
   "metadata": {},
   "outputs": [
    {
     "name": "stdout",
     "output_type": "stream",
     "text": [
      "There are 4 documents retrieved which are relevant to the query. Display the first one:\n",
      "\n",
      "Original Research Article\n",
      "Dement Geriatr Cogn Disord 2004;18:159–164\n",
      "DOI: 10.1159/000079196\n",
      "A Model for Quality of Life Measures in\n",
      "Patients with Dementia:\n",
      "Lawton’s Next Step\n",
      "C. Jonkera,b D.L. Gerritsenb P.R. Bosboomc J.T. Van der Steenb\n",
      "aDepartment of Psychiatry and bInstitute for Research in Extramural Medicine, VU University Medical Center, and\n",
      "cDepartment of Clinical Neuropsychology, VU University, Amsterdam, The Netherlands\n",
      "Accepted: January 22, 2004\n",
      "Published online: June 21, 2004\n",
      "Prof. Dr. C. Jonker, Behavioral Neurologist\n",
      "Department of Psychiatry and EMGO Institute\n",
      "VU University Medical Center, Van der Boechorststraat 7\n",
      "NL–1081 BT Amsterdam (The Netherlands)\n",
      "Tel. +31 20 4446770, Fax +31 20 4446775, E-Mail c.jonker.emgo@med.vu.nl\n",
      "ABC\n",
      "Fax +41 61 306 12 34\n",
      "E-Mail karger@karger.ch\n",
      "www.karger.com\n",
      "© 2004 S. Karger AG, Basel\n",
      "1420–8008/04/0182–0159$21.00/0\n",
      "Accessible online at:\n"
     ]
    }
   ],
   "source": [
    "#query = \"\"\"Give a 500 word summary of the paper titled:  A Model for Quality of Life Measures in Patients with Dementia:Lawton’s Next Step. Start with stating the authors en journal + the abstract and then summarize the introduction, methodology, results and conclusion.\"\"\"  \n",
    "query = \"\"\"What are the factual page numbers (as shown in the PDF version of the paper titled:  A Model for Quality of Life Measures in Patients with Dementia:Lawton’s Next Step.)\n",
    "            of the pages that contain the abstract, introduction, methodology, results and conclusion.\"\"\"\n",
    "          # that contain the abstract, introduction, methodology, results and conclusion. Make a list of two columns with the page numbers and the corresponding text. \"\"\"\n",
    "          # Next, provide a 250 word summary of the abstract and then summarize the introduction, methodology, results and conclusion.\"\"\"  \n",
    "         # Sample question, change to other questions you are interested in.\n",
    "\n",
    "\n",
    "relevant_documents = vectorstore.similarity_search(query)\n",
    "print(f'There are {len(relevant_documents)} documents retrieved which are relevant to the query. Display the first one:\\n')\n",
    "print(relevant_documents[0].page_content)"
   ]
  },
  {
   "cell_type": "code",
   "execution_count": 61,
   "id": "d0d2f5e6",
   "metadata": {},
   "outputs": [],
   "source": [
    "# Use the retrieved documents to answer the question\n",
    "# The `chain_type` is set to \"stuff\" to use the `RetrievalQA` class.\n",
    "# k=1 means that only the most relevant document is used to answer the question.\n",
    "# The `return_source_documents` is set to True to return the source documents used to answer the question.\n",
    "\n",
    "\n",
    "#### IF ANSWER is inconsistent change K to higher number\n",
    "\n",
    "from langchain.chains import RetrievalQA\n",
    "\n",
    "retrievalQA = RetrievalQA.from_chain_type(\n",
    "    llm=llm,\n",
    "    chain_type=\"stuff\",\n",
    "    retriever=vectorstore.as_retriever(search_type=\"similarity\", search_kwargs={\"k\": 10}),\n",
    "    return_source_documents=True,\n",
    "    chain_type_kwargs={\"prompt\": PROMPT}\n",
    ")"
   ]
  },
  {
   "cell_type": "code",
   "execution_count": 62,
   "id": "b02e9c6e",
   "metadata": {},
   "outputs": [
    {
     "name": "stdout",
     "output_type": "stream",
     "text": [
      "\n",
      "The abstract is on page 159.\n",
      "\n",
      "The introduction is on pages 159 and 160.\n",
      "\n",
      "The methodology is on pages 160-161.\n",
      "\n",
      "The results are on pages 161-162.\n",
      "\n",
      "The conclusion is on pages 162-163.\n",
      "\n",
      "The references are on pages 163-164.\n",
      "\n",
      "The appendix is on page 164.\n",
      "\n",
      "The table is on page 161.\n",
      "\n",
      "The figure is on page 163.\n"
     ]
    }
   ],
   "source": [
    "# Call the QA chain with our query.\n",
    "result = retrievalQA.invoke({\"query\": query})\n",
    "print(result['result'])"
   ]
  },
  {
   "cell_type": "code",
   "execution_count": 63,
   "id": "b4883afb",
   "metadata": {},
   "outputs": [
    {
     "name": "stdout",
     "output_type": "stream",
     "text": [
      "There are 10 documents retrieved which are relevant to the query.\n",
      "****************************************************************************************************\n",
      "Relevant Document #1:\n",
      " Source file: LAWTON\\QoL reference Lawton.pdf, Page: 0\n",
      "Content: Original Research Article\n",
      "Dement Geriatr Cogn Disord 2004;18:159–164\n",
      "DOI: 10.1159/000079196\n",
      "A Model for Quality of Life Measures in\n",
      "Patients with Dementia:\n",
      "Lawton’s Next Step\n",
      "C. Jonkera,b D.L. Gerritsenb P.R. Bosboomc J.T. Van der Steenb\n",
      "aDepartment of Psychiatry and bInstitute for Research in Extramural Medicine, VU University Medical Center, and\n",
      "cDepartment of Clinical Neuropsychology, VU University, Amsterdam, The Netherlands\n",
      "Accepted: January 22, 2004\n",
      "Published online: June 21, 2004\n",
      "Prof. Dr. C. Jonker, Behavioral Neurologist\n",
      "Department of Psychiatry and EMGO Institute\n",
      "VU University Medical Center, Van der Boechorststraat 7\n",
      "NL–1081 BT Amsterdam (The Netherlands)\n",
      "Tel. +31 20 4446770, Fax +31 20 4446775, E-Mail c.jonker.emgo@med.vu.nl\n",
      "ABC\n",
      "Fax +41 61 306 12 34\n",
      "E-Mail karger@karger.ch\n",
      "www.karger.com\n",
      "© 2004 S. Karger AG, Basel\n",
      "1420–8008/04/0182–0159$21.00/0\n",
      "Accessible online at:\n",
      "####################################################################################################\n",
      "There are 10 documents retrieved which are relevant to the query.\n",
      "Relevant Document #2:\n",
      " Source file: LAWTON\\QoL reference Lawton.pdf, Page: 2\n",
      "Content: (life) domains, such as social functioning, leisure activi-\n",
      "ties, living accommodation and income. (d) ‘Psychologi-\n",
      "cal well-being’, ‘the weighted evaluated level of a person’s\n",
      "competence and perceived quality in all domains of con-\n",
      "temporary life’ [31, p. 11]. The last two sectors (c and d)\n",
      "concern the subjective perception of the individual.\n",
      "Several other investigators have elaborated on Law-\n",
      "ton’s [15, 30–32] framework to study QOL of patients\n",
      "with dementia or developed distinctive approaches, based\n",
      "on different theoretical assumptions or on focus groups,\n",
      "consisting of professional caregivers, informal caregivers\n",
      "and patients [7, 9]. Table1 provides an overview of the\n",
      "dimensions and domains discussed in the literature. As\n",
      "Lawton was the first to describe an approach to QOL and\n",
      "other authors are indebted to his work [7], his sectors\n",
      "form the structure to compare the other approaches.\n",
      "####################################################################################################\n",
      "There are 10 documents retrieved which are relevant to the query.\n",
      "Relevant Document #3:\n",
      " Source file: LAWTON\\QoL reference Lawton.pdf, Page: 4\n",
      "Content: oneself may well be important for QOL for one individu-\n",
      "al, but less so or even not important for the other.\n",
      "According to figure1, QOL can be measured at three\n",
      "levels. Although the relative importance of the domains\n",
      "may vary across individuals, it is assumed that, for all\n",
      "patients with dementia, a number of these are important,\n",
      "and contribute to psychological well-being.\n",
      "What Our Model Adds\n",
      "The relationships between traditional clinical variables\n",
      "of dementia and health status measures has not been con-\n",
      "ceptualized in much of the research done to date on\n",
      "dementia. Our model facilitates the understanding of\n",
      "these associations, essentially based on the dimensions\n",
      "presented by Lawton. This model should be useful in the\n",
      "formulation of strategies to improve QOL in dementia.\n",
      "Changes in the disease process (e.g. progression of demen-\n",
      "tia) would be reflected in changes on dimensions and\n",
      "####################################################################################################\n",
      "There are 10 documents retrieved which are relevant to the query.\n",
      "Relevant Document #4:\n",
      " Source file: LAWTON\\QoL reference Lawton.pdf, Page: 0\n",
      "Content: Accessible online at:\n",
      "www.karger.com/dem\n",
      "Key Words\n",
      "Dementia W Quality of lifeW Well-being W Broadness W\n",
      "Domains W Subjectivity W Model\n",
      "Abstract\n",
      "The introduction of drugs that are claimed to improve\n",
      "cognitive function and activities of daily living in patients\n",
      "with Alzheimer’s disease raises the question of whether\n",
      "these drugs also influence dementia patients’ quality of\n",
      "life (QOL). We describe a hierarchic model of QOL of\n",
      "dementia patients, which can guide the development of\n",
      "measurement instruments. After initially discussing\n",
      "broadly QOL research, we focus on two highly important\n",
      "characteristics of the concept, its broadness and subjec-\n",
      "tivity, against the background of the relevant literature\n",
      "on QOL in dementia. Dementia-specific dimensions and\n",
      "domains are presented. We identify psychological well-\n",
      "being as the core dimension for QOL of patients with\n",
      "dementia.\n",
      "####################################################################################################\n",
      "There are 10 documents retrieved which are relevant to the query.\n",
      "Relevant Document #5:\n",
      " Source file: LAWTON\\QoL reference Lawton.pdf, Page: 2\n",
      "Content: Quality of Life Measures in Patients with\n",
      "Dementia\n",
      "Dement Geriatr Cogn Disord 2004;18:159–164 161\n",
      "Table 1. Domains in QOL approaches in dementia, grouped by Lawton’s sectors\n",
      "Lawton’s sectors Domains\n",
      "Lawton [15, 30–32] Brod et al. [1, 7] Rabins et al. [9] Volicer and Bloom [13]\n",
      "Psychological well-being positive affect\n",
      "negative affect\n",
      "feelings and mood\n",
      "Behavioral competence health\n",
      "functional health\n",
      "cognition\n",
      "time use\n",
      "social behavior\n",
      "interaction capacity social interaction\n",
      "awareness of self\n",
      "medical issues\n",
      "psychiatric symptoms\n",
      "meaningful activities\n",
      "Objective environment response to surroundings\n",
      "Perceived QOL sense of aesthetics\n",
      "feelings of belonging\n",
      "enjoyment of activities\n",
      "Personal characteristics1 self-esteem\n",
      "1 Added to Lawton’s sectors.\n",
      "later to older people with dementia. He defined QOL as\n",
      "the ‘multidimensional evaluation, by both intra-personal\n",
      "####################################################################################################\n",
      "There are 10 documents retrieved which are relevant to the query.\n",
      "Relevant Document #6:\n",
      " Source file: LAWTON\\QoL reference Lawton.pdf, Page: 0\n",
      "Content: development has initiated new and important research in\n",
      "this field. However, recent research mainly focused on the\n",
      "development of new scales [1–4, 9], as well as on the agree-\n",
      "ment between patients’ and proxies’ report of QOL in\n",
      "dementia [10–12]. The few researchers presenting a con-\n",
      "ceptual framework for QOL in dementia [1, 9, 13, 14] often\n",
      "based their concepts on Lawton [15]. However, none of\n",
      "them presented a model that made explicit what the domi-\n",
      "nant causal associations are between QOL and, for exam-\n",
      "ple, well-being or environment.\n",
      "In this paper, we review conceptual developments in\n",
      "QOL research concerning dementia. Although, in our\n",
      "view, QOL consists of multiple dimensions (called ‘sec-\n",
      "tors’ by Lawton [15]) that may consist of multiple do-\n",
      "mains, we follow the original terminology when discuss-\n",
      "ing the different approaches. We then propose a model\n",
      "####################################################################################################\n",
      "There are 10 documents retrieved which are relevant to the query.\n",
      "Relevant Document #7:\n",
      " Source file: LAWTON\\QoL reference Lawton.pdf, Page: 4\n",
      "Content: domains. Our model adds to the existing literature an\n",
      "approach to the relationship between the dimensions.\n",
      "Lawton’s description of these relationships is not com-\n",
      "plete and Brod et al. [1, 7], although they differentiate\n",
      "between determinants and components, do not describe\n",
      "the relationships between the components of QOL.\n",
      "Conclusion\n",
      "In this article we present a hierarchical model for QOL\n",
      "of patients with dementia that identifies relationships\n",
      "between the dimensions in the model and can be used to\n",
      "develop and study the effect of QOL interventions. The\n",
      "starting point for QOL in this model is psychological well-\n",
      "being. Psychological well-being is considered to be the\n",
      "central indicator for QOL of patients with dementia. Sec-\n",
      "ond, we advocate that QOL in dementia should not be\n",
      "based on domains that are influenced by dementia exclu-\n",
      "sively. Our approach is based on the view that all life\n",
      "####################################################################################################\n",
      "There are 10 documents retrieved which are relevant to the query.\n",
      "Relevant Document #8:\n",
      " Source file: LAWTON\\QoL reference Lawton.pdf, Page: 3\n",
      "Content: (‘psychological well-being’) (fig.1).\n",
      "Figure 1 presents a hierarchical model for QOL in\n",
      "dementia that includes the interrelation between dimen-\n",
      "sions. It addresses all aspects of life of a dementia patient,\n",
      "also those not affected by dementia. Thus, our approach is\n",
      "disease-specific, but not in that regard that all dimensions\n",
      "of the model are influenced by the disease. In the model,\n",
      "the causal pathways that link different types of outcomes\n",
      "to each other are identified. The choice of the dimensions\n",
      "and their domains is based on the aforementioned re-\n",
      "search. Until the model is empirically tested to identify\n",
      "key concepts, we rely on the domains suggested by the\n",
      "focus groups in the studies of Brod et al. [1, 7] and Rabins\n",
      "et al. [9]. In addition to the domains that are related to\n",
      "dementia, ‘environment’ and the (non-dementia-related)\n",
      "####################################################################################################\n",
      "There are 10 documents retrieved which are relevant to the query.\n",
      "Relevant Document #9:\n",
      " Source file: LAWTON\\QoL reference Lawton.pdf, Page: 4\n",
      "Content: Quality of Life Measures in Patients with\n",
      "Dementia\n",
      "Dement Geriatr Cogn Disord 2004;18:159–164 163\n",
      "Fig. 1. Hierarchic relationships between\n",
      "QOL dimensions in dementia.\n",
      "pared to Lawton’s field ‘domain-specific perceived QOL’.\n",
      "Also the evaluation of the domains is influenced by per-\n",
      "sonal factors and environment. At the highest level in the\n",
      "model ‘psychological well-being’ is located – the central\n",
      "outcome measure – which can be described as the subjec-\n",
      "tive evaluation of life in general, as a result of the appre-\n",
      "ciation of the various life domains. This means that the\n",
      "subjective evaluation of the various relevant (life) do-\n",
      "mains determines psychological well-being in general. For\n",
      "each individual the various domains will have their indi-\n",
      "vidual contribution to psychological well-being. For in-\n",
      "stance, loss of ADL functions like dressing and washing\n",
      "####################################################################################################\n",
      "There are 10 documents retrieved which are relevant to the query.\n",
      "Relevant Document #10:\n",
      " Source file: LAWTON\\QoL reference Lawton.pdf, Page: 3\n",
      "Content: 20], we chose a hierarchical approach to explain the rela-\n",
      "tions between the dimensions in dementia. This corre-\n",
      "sponds largely with Lawton’s work. However, we do not\n",
      "consider ‘behavioral competence’ as a central component\n",
      "of QOL in dementia. Moreover, Lawton does not incor-\n",
      "porate ‘personal characteristics’. In view of the work on\n",
      "QOL in physical conditions and mental disorders in\n",
      "which personal characteristics and objective QOL indica-\n",
      "tors act as determinants of subjective health perceptions\n",
      "and psychological well-being, we consider dimensions\n",
      "that are related to dementia (‘behavioral competence’ in\n",
      "Lawton’s approach) as well as the environment (‘objective\n",
      "environment’) and ‘personal factors’ that are not related\n",
      "to dementia (not in Lawton’s approach) as determinants\n",
      "of the evaluative dimensions ‘evaluation’ (‘domain-spe-\n",
      "cific perceived QOL’) and ‘psychological well-being’\n",
      "####################################################################################################\n",
      "There are 10 documents retrieved which are relevant to the query.\n"
     ]
    }
   ],
   "source": [
    "relevant_docs = result['source_documents']\n",
    "print(f'There are {len(relevant_docs)} documents retrieved which are relevant to the query.')\n",
    "print(\"*\" * 100)\n",
    "\n",
    "for i, doc in enumerate(relevant_docs):\n",
    "    print(f\"Relevant Document #{i+1}:\\n Source file: {doc.metadata['source']}, Page: {doc.metadata['page']}\\nContent: {doc.page_content}\")\n",
    "    print(\"#\"*100) \n",
    "    print(f'There are {len(relevant_docs)} documents retrieved which are relevant to the query.')"
   ]
  },
  {
   "cell_type": "code",
   "execution_count": null,
   "id": "65bc6c91",
   "metadata": {},
   "outputs": [],
   "source": []
  },
  {
   "cell_type": "code",
   "execution_count": 64,
   "id": "71ff084f",
   "metadata": {},
   "outputs": [
    {
     "data": {
      "text/plain": [
       "[Document(metadata={'source': 'LAWTON\\\\QoL reference Lawton.pdf', 'page': 0}, page_content='Original Research Article\\nDement Geriatr Cogn Disord 2004;18:159–164\\nDOI: 10.1159/000079196\\nA Model for Quality of Life Measures in\\nPatients with Dementia:\\nLawton’s Next Step\\nC. Jonkera,b D.L. Gerritsenb P.R. Bosboomc J.T. Van der Steenb\\naDepartment of Psychiatry and bInstitute for Research in Extramural Medicine, VU University Medical Center, and\\ncDepartment of Clinical Neuropsychology, VU University, Amsterdam, The Netherlands\\nAccepted: January 22, 2004\\nPublished online: June 21, 2004\\nProf. Dr. C. Jonker, Behavioral Neurologist\\nDepartment of Psychiatry and EMGO Institute\\nVU University Medical Center, Van der Boechorststraat 7\\nNL–1081 BT Amsterdam (The Netherlands)\\nTel. +31 20 4446770, Fax +31 20 4446775, E-Mail c.jonker.emgo@med.vu.nl\\nABC\\nFax +41 61 306 12 34\\nE-Mail karger@karger.ch\\nwww.karger.com\\n© 2004 S. Karger AG, Basel\\n1420–8008/04/0182–0159$21.00/0\\nAccessible online at:'),\n",
       " Document(metadata={'source': 'LAWTON\\\\QoL reference Lawton.pdf', 'page': 2}, page_content='(life) domains, such as social functioning, leisure activi-\\nties, living accommodation and income. (d) ‘Psychologi-\\ncal well-being’, ‘the weighted evaluated level of a person’s\\ncompetence and perceived quality in all domains of con-\\ntemporary life’ [31, p. 11]. The last two sectors (c and d)\\nconcern the subjective perception of the individual.\\nSeveral other investigators have elaborated on Law-\\nton’s [15, 30–32] framework to study QOL of patients\\nwith dementia or developed distinctive approaches, based\\non different theoretical assumptions or on focus groups,\\nconsisting of professional caregivers, informal caregivers\\nand patients [7, 9]. Table1 provides an overview of the\\ndimensions and domains discussed in the literature. As\\nLawton was the first to describe an approach to QOL and\\nother authors are indebted to his work [7], his sectors\\nform the structure to compare the other approaches.'),\n",
       " Document(metadata={'source': 'LAWTON\\\\QoL reference Lawton.pdf', 'page': 4}, page_content='oneself may well be important for QOL for one individu-\\nal, but less so or even not important for the other.\\nAccording to figure1, QOL can be measured at three\\nlevels. Although the relative importance of the domains\\nmay vary across individuals, it is assumed that, for all\\npatients with dementia, a number of these are important,\\nand contribute to psychological well-being.\\nWhat Our Model Adds\\nThe relationships between traditional clinical variables\\nof dementia and health status measures has not been con-\\nceptualized in much of the research done to date on\\ndementia. Our model facilitates the understanding of\\nthese associations, essentially based on the dimensions\\npresented by Lawton. This model should be useful in the\\nformulation of strategies to improve QOL in dementia.\\nChanges in the disease process (e.g. progression of demen-\\ntia) would be reflected in changes on dimensions and'),\n",
       " Document(metadata={'source': 'LAWTON\\\\QoL reference Lawton.pdf', 'page': 0}, page_content='Accessible online at:\\nwww.karger.com/dem\\nKey Words\\nDementia W Quality of lifeW Well-being W Broadness W\\nDomains W Subjectivity W Model\\nAbstract\\nThe introduction of drugs that are claimed to improve\\ncognitive function and activities of daily living in patients\\nwith Alzheimer’s disease raises the question of whether\\nthese drugs also influence dementia patients’ quality of\\nlife (QOL). We describe a hierarchic model of QOL of\\ndementia patients, which can guide the development of\\nmeasurement instruments. After initially discussing\\nbroadly QOL research, we focus on two highly important\\ncharacteristics of the concept, its broadness and subjec-\\ntivity, against the background of the relevant literature\\non QOL in dementia. Dementia-specific dimensions and\\ndomains are presented. We identify psychological well-\\nbeing as the core dimension for QOL of patients with\\ndementia.'),\n",
       " Document(metadata={'source': 'LAWTON\\\\QoL reference Lawton.pdf', 'page': 2}, page_content='Quality of Life Measures in Patients with\\nDementia\\nDement Geriatr Cogn Disord 2004;18:159–164 161\\nTable 1. Domains in QOL approaches in dementia, grouped by Lawton’s sectors\\nLawton’s sectors Domains\\nLawton [15, 30–32] Brod et al. [1, 7] Rabins et al. [9] Volicer and Bloom [13]\\nPsychological well-being positive affect\\nnegative affect\\nfeelings and mood\\nBehavioral competence health\\nfunctional health\\ncognition\\ntime use\\nsocial behavior\\ninteraction capacity social interaction\\nawareness of self\\nmedical issues\\npsychiatric symptoms\\nmeaningful activities\\nObjective environment response to surroundings\\nPerceived QOL sense of aesthetics\\nfeelings of belonging\\nenjoyment of activities\\nPersonal characteristics1 self-esteem\\n1 Added to Lawton’s sectors.\\nlater to older people with dementia. He defined QOL as\\nthe ‘multidimensional evaluation, by both intra-personal'),\n",
       " Document(metadata={'source': 'LAWTON\\\\QoL reference Lawton.pdf', 'page': 0}, page_content='development has initiated new and important research in\\nthis field. However, recent research mainly focused on the\\ndevelopment of new scales [1–4, 9], as well as on the agree-\\nment between patients’ and proxies’ report of QOL in\\ndementia [10–12]. The few researchers presenting a con-\\nceptual framework for QOL in dementia [1, 9, 13, 14] often\\nbased their concepts on Lawton [15]. However, none of\\nthem presented a model that made explicit what the domi-\\nnant causal associations are between QOL and, for exam-\\nple, well-being or environment.\\nIn this paper, we review conceptual developments in\\nQOL research concerning dementia. Although, in our\\nview, QOL consists of multiple dimensions (called ‘sec-\\ntors’ by Lawton [15]) that may consist of multiple do-\\nmains, we follow the original terminology when discuss-\\ning the different approaches. We then propose a model'),\n",
       " Document(metadata={'source': 'LAWTON\\\\QoL reference Lawton.pdf', 'page': 4}, page_content='domains. Our model adds to the existing literature an\\napproach to the relationship between the dimensions.\\nLawton’s description of these relationships is not com-\\nplete and Brod et al. [1, 7], although they differentiate\\nbetween determinants and components, do not describe\\nthe relationships between the components of QOL.\\nConclusion\\nIn this article we present a hierarchical model for QOL\\nof patients with dementia that identifies relationships\\nbetween the dimensions in the model and can be used to\\ndevelop and study the effect of QOL interventions. The\\nstarting point for QOL in this model is psychological well-\\nbeing. Psychological well-being is considered to be the\\ncentral indicator for QOL of patients with dementia. Sec-\\nond, we advocate that QOL in dementia should not be\\nbased on domains that are influenced by dementia exclu-\\nsively. Our approach is based on the view that all life'),\n",
       " Document(metadata={'source': 'LAWTON\\\\QoL reference Lawton.pdf', 'page': 3}, page_content='(‘psychological well-being’) (fig.1).\\nFigure 1 presents a hierarchical model for QOL in\\ndementia that includes the interrelation between dimen-\\nsions. It addresses all aspects of life of a dementia patient,\\nalso those not affected by dementia. Thus, our approach is\\ndisease-specific, but not in that regard that all dimensions\\nof the model are influenced by the disease. In the model,\\nthe causal pathways that link different types of outcomes\\nto each other are identified. The choice of the dimensions\\nand their domains is based on the aforementioned re-\\nsearch. Until the model is empirically tested to identify\\nkey concepts, we rely on the domains suggested by the\\nfocus groups in the studies of Brod et al. [1, 7] and Rabins\\net al. [9]. In addition to the domains that are related to\\ndementia, ‘environment’ and the (non-dementia-related)'),\n",
       " Document(metadata={'source': 'LAWTON\\\\QoL reference Lawton.pdf', 'page': 4}, page_content='Quality of Life Measures in Patients with\\nDementia\\nDement Geriatr Cogn Disord 2004;18:159–164 163\\nFig. 1. Hierarchic relationships between\\nQOL dimensions in dementia.\\npared to Lawton’s field ‘domain-specific perceived QOL’.\\nAlso the evaluation of the domains is influenced by per-\\nsonal factors and environment. At the highest level in the\\nmodel ‘psychological well-being’ is located – the central\\noutcome measure – which can be described as the subjec-\\ntive evaluation of life in general, as a result of the appre-\\nciation of the various life domains. This means that the\\nsubjective evaluation of the various relevant (life) do-\\nmains determines psychological well-being in general. For\\neach individual the various domains will have their indi-\\nvidual contribution to psychological well-being. For in-\\nstance, loss of ADL functions like dressing and washing'),\n",
       " Document(metadata={'source': 'LAWTON\\\\QoL reference Lawton.pdf', 'page': 3}, page_content='20], we chose a hierarchical approach to explain the rela-\\ntions between the dimensions in dementia. This corre-\\nsponds largely with Lawton’s work. However, we do not\\nconsider ‘behavioral competence’ as a central component\\nof QOL in dementia. Moreover, Lawton does not incor-\\nporate ‘personal characteristics’. In view of the work on\\nQOL in physical conditions and mental disorders in\\nwhich personal characteristics and objective QOL indica-\\ntors act as determinants of subjective health perceptions\\nand psychological well-being, we consider dimensions\\nthat are related to dementia (‘behavioral competence’ in\\nLawton’s approach) as well as the environment (‘objective\\nenvironment’) and ‘personal factors’ that are not related\\nto dementia (not in Lawton’s approach) as determinants\\nof the evaluative dimensions ‘evaluation’ (‘domain-spe-\\ncific perceived QOL’) and ‘psychological well-being’')]"
      ]
     },
     "metadata": {},
     "output_type": "display_data"
    }
   ],
   "source": [
    "display(relevant_docs)"
   ]
  },
  {
   "cell_type": "code",
   "execution_count": null,
   "id": "db41988e",
   "metadata": {},
   "outputs": [],
   "source": []
  },
  {
   "cell_type": "code",
   "execution_count": null,
   "id": "862dd122",
   "metadata": {},
   "outputs": [],
   "source": []
  }
 ],
 "metadata": {
  "kernelspec": {
   "display_name": "Python 3",
   "language": "python",
   "name": "python3"
  },
  "language_info": {
   "codemirror_mode": {
    "name": "ipython",
    "version": 3
   },
   "file_extension": ".py",
   "mimetype": "text/x-python",
   "name": "python",
   "nbconvert_exporter": "python",
   "pygments_lexer": "ipython3",
   "version": "3.12.7"
  }
 },
 "nbformat": 4,
 "nbformat_minor": 5
}
